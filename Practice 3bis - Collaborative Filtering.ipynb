{
 "cells": [
  {
   "cell_type": "markdown",
   "metadata": {},
   "source": [
    "# Recommender Systems 2019/20\n",
    "\n",
    "### Practice 3 - Content Based recommenders\n",
    "\n",
    "\n",
    "### Load the data you saw last time:"
   ]
  },
  {
   "cell_type": "code",
   "execution_count": 1,
   "metadata": {},
   "outputs": [],
   "source": [
    "import matplotlib.pyplot as pyplot\n",
    "%matplotlib inline  "
   ]
  },
  {
   "cell_type": "code",
   "execution_count": 2,
   "metadata": {},
   "outputs": [],
   "source": [
    "from urllib.request import urlretrieve\n",
    "import zipfile, os\n",
    "import numpy as np\n",
    "\n",
    "# If file exists, skip the download\n",
    "data_file_path = \"data/Movielens_10M\"\n",
    "data_file_name = data_file_path + \"/movielens_10m.zip\"\n",
    "\n",
    "os.makedirs(data_file_path, exist_ok=True)   \n",
    "if not os.path.exists(data_file_name):\n",
    "    urlretrieve (\"http://files.grouplens.org/datasets/movielens/ml-10m.zip\", data_file_name)\n",
    "    \n",
    "dataFile = zipfile.ZipFile(data_file_name)\n",
    "URM_path = dataFile.extract(\"ml-10M100K/ratings.dat\", path=\"data/Movielens_10M\")\n",
    "URM_file = open(URM_path, 'r')\n",
    "\n",
    "\n",
    "def rowSplit (rowString):\n",
    "    \n",
    "    split = rowString.split(\"::\")\n",
    "    split[3] = split[3].replace(\"\\n\",\"\")\n",
    "    \n",
    "    split[0] = int(split[0])\n",
    "    split[1] = int(split[1])\n",
    "    split[2] = float(split[2])\n",
    "    split[3] = int(split[3])\n",
    "    \n",
    "    result = tuple(split)\n",
    "    \n",
    "    return result\n",
    "\n",
    "\n",
    "URM_file.seek(0)\n",
    "URM_tuples = []\n",
    "\n",
    "for line in URM_file:\n",
    "   URM_tuples.append(rowSplit (line))\n",
    "\n",
    "userList, itemList, ratingList, timestampList = zip(*URM_tuples)\n",
    "\n",
    "userList = list(userList)\n",
    "itemList = list(itemList)\n",
    "ratingList = list(ratingList)\n",
    "timestampList = list(timestampList)\n"
   ]
  },
  {
   "cell_type": "code",
   "execution_count": 3,
   "metadata": {},
   "outputs": [
    {
     "name": "stdout",
     "output_type": "stream",
     "text": [
      "User data, ID: min 1, max 71567, unique 69878, missig 2.36 %\n",
      "Item data, ID: min 1, max 65133, unique 10677, missig 83.61 %\n"
     ]
    }
   ],
   "source": [
    "def list_ID_stats(ID_list, label):\n",
    "    \n",
    "    min_val = min(ID_list)\n",
    "    max_val = max(ID_list)\n",
    "    unique_val = len(set(ID_list))\n",
    "    missing_val = 1 - unique_val/(max_val - min_val)\n",
    "\n",
    "    print(\"{} data, ID: min {}, max {}, unique {}, missig {:.2f} %\".format(label, min_val, max_val, unique_val, missing_val*100))\n",
    "\n",
    "    \n",
    "    \n",
    "list_ID_stats(userList, \"User\")\n",
    "list_ID_stats(itemList, \"Item\")"
   ]
  },
  {
   "cell_type": "code",
   "execution_count": 4,
   "metadata": {},
   "outputs": [],
   "source": [
    "import scipy.sparse as sps\n",
    "\n",
    "URM_all = sps.coo_matrix((ratingList, (userList, itemList)))\n",
    "URM_all = URM_all.tocsr()"
   ]
  },
  {
   "cell_type": "markdown",
   "metadata": {},
   "source": [
    "### For items in particular most have no interactions. Do we have to remove them?"
   ]
  },
  {
   "cell_type": "markdown",
   "metadata": {},
   "source": [
    "## YES!\n",
    "#### Cold items have no impact in the evaluation, since they have no interactions\n",
    "#### Moreover, considering how item-item and user-user CF are defined, they are not relevant."
   ]
  },
  {
   "cell_type": "code",
   "execution_count": 5,
   "metadata": {},
   "outputs": [
    {
     "data": {
      "text/plain": [
       "<71568x10677 sparse matrix of type '<class 'numpy.float64'>'\n",
       "\twith 10000054 stored elements in Compressed Sparse Row format>"
      ]
     },
     "execution_count": 5,
     "metadata": {},
     "output_type": "execute_result"
    }
   ],
   "source": [
    "warm_items_mask = np.ediff1d(URM_all.tocsc().indptr) > 0\n",
    "warm_items = np.arange(URM_all.shape[1])[warm_items_mask]\n",
    "\n",
    "URM_all = URM_all[:, warm_items]\n",
    "URM_all"
   ]
  },
  {
   "cell_type": "markdown",
   "metadata": {},
   "source": [
    "#### The same holds for users"
   ]
  },
  {
   "cell_type": "code",
   "execution_count": 6,
   "metadata": {},
   "outputs": [
    {
     "data": {
      "text/plain": [
       "<69878x10677 sparse matrix of type '<class 'numpy.float64'>'\n",
       "\twith 10000054 stored elements in Compressed Sparse Row format>"
      ]
     },
     "execution_count": 6,
     "metadata": {},
     "output_type": "execute_result"
    }
   ],
   "source": [
    "warm_users_mask = np.ediff1d(URM_all.tocsr().indptr) > 0\n",
    "warm_users = np.arange(URM_all.shape[0])[warm_users_mask]\n",
    "\n",
    "URM_all = URM_all[warm_users, :]\n",
    "URM_all"
   ]
  },
  {
   "cell_type": "markdown",
   "metadata": {},
   "source": [
    "### Be careful! With this operation we lost the original mapping with item and user IDs!\n",
    "### Keep the warm_items and warm_users array, we might need them in future..."
   ]
  },
  {
   "cell_type": "markdown",
   "metadata": {},
   "source": [
    "# We can now build the recommender algorithm, but first we need the train/test split and the evaluation function:"
   ]
  },
  {
   "cell_type": "code",
   "execution_count": 7,
   "metadata": {},
   "outputs": [],
   "source": [
    "from Notebooks_utils.data_splitter import train_test_holdout\n",
    "\n",
    "\n",
    "URM_train, URM_test = train_test_holdout(URM_all, train_perc = 0.8)\n",
    "\n",
    "\n",
    "from Notebooks_utils.evaluation_function import evaluate_algorithm\n",
    "from Base.Similarity.Compute_Similarity_Python import Compute_Similarity_Python\n"
   ]
  },
  {
   "cell_type": "markdown",
   "metadata": {},
   "source": [
    "# Item-based Collaborative Filtering"
   ]
  },
  {
   "cell_type": "code",
   "execution_count": 27,
   "metadata": {},
   "outputs": [],
   "source": [
    "class ItemCFKNNRecommender(object):\n",
    "    \n",
    "    def __init__(self, URM):\n",
    "        self.URM = URM\n",
    "        \n",
    "            \n",
    "    def fit(self, topK=50, shrink=100, normalize=True, similarity=\"cosine\"):\n",
    "        \n",
    "        similarity_object = Compute_Similarity_Python(self.URM, shrink=shrink, \n",
    "                                                  topK=topK, normalize=normalize, \n",
    "                                                  similarity = similarity)\n",
    "        \n",
    "        self.W_sparse = similarity_object.compute_similarity()\n",
    "\n",
    "        \n",
    "    def recommend(self, user_id, at=None, exclude_seen=True):\n",
    "        # compute the scores using the dot product\n",
    "        user_profile = self.URM[user_id]\n",
    "        scores = user_profile.dot(self.W_sparse).toarray().ravel()\n",
    "\n",
    "        if exclude_seen:\n",
    "            scores = self.filter_seen(user_id, scores)\n",
    "\n",
    "        # rank items\n",
    "        ranking = scores.argsort()[::-1]\n",
    "            \n",
    "        return ranking[:at]\n",
    "    \n",
    "    \n",
    "    def filter_seen(self, user_id, scores):\n",
    "\n",
    "        start_pos = self.URM.indptr[user_id]\n",
    "        end_pos = self.URM.indptr[user_id+1]\n",
    "\n",
    "        user_profile = self.URM.indices[start_pos:end_pos]\n",
    "        \n",
    "        scores[user_profile] = -np.inf\n",
    "\n",
    "        return scores"
   ]
  },
  {
   "cell_type": "markdown",
   "metadata": {},
   "source": [
    "## Test our CF recommender:"
   ]
  },
  {
   "cell_type": "code",
   "execution_count": 9,
   "metadata": {},
   "outputs": [
    {
     "name": "stdout",
     "output_type": "stream",
     "text": [
      "Similarity column 6500 ( 61 % ), 213.00 column/sec, elapsed time 0.51 min\n",
      "Similarity column 10677 ( 100 % ), 216.50 column/sec, elapsed time 0.82 min\n"
     ]
    }
   ],
   "source": [
    "recommender = ItemCFKNNRecommender(URM_train)\n",
    "recommender.fit(shrink=0.0, topK=50)"
   ]
  },
  {
   "cell_type": "markdown",
   "metadata": {},
   "source": [
    "#### Let's talk about speed\n",
    "\n",
    "#### Time to compute recommendations for a fixed group of users"
   ]
  },
  {
   "cell_type": "code",
   "execution_count": 10,
   "metadata": {},
   "outputs": [
    {
     "name": "stdout",
     "output_type": "stream",
     "text": [
      "Reasonable implementation speed is 1693.09 usr/sec\n"
     ]
    }
   ],
   "source": [
    "import time\n",
    "\n",
    "n_users_to_test = 1000\n",
    "\n",
    "start_time = time.time()\n",
    "\n",
    "for user_id in range(n_users_to_test):\n",
    "    recommender.recommend(user_id, at=5)\n",
    "    \n",
    "end_time = time.time()\n",
    "\n",
    "print(\"Reasonable implementation speed is {:.2f} usr/sec\".format(n_users_to_test/(end_time-start_time)))\n"
   ]
  },
  {
   "cell_type": "markdown",
   "metadata": {},
   "source": [
    "## Remember to keep the URM in CSR format!"
   ]
  },
  {
   "cell_type": "markdown",
   "metadata": {},
   "source": [
    "## Parameter tuning\n",
    "\n",
    "#### Once we have built our model we can play with its parameters\n",
    "* Number of neighbors\n",
    "* Shrinkage\n",
    "* Similarity type"
   ]
  },
  {
   "cell_type": "markdown",
   "metadata": {},
   "source": [
    "#### Number of neighbors"
   ]
  },
  {
   "cell_type": "code",
   "execution_count": 11,
   "metadata": {},
   "outputs": [
    {
     "name": "stdout",
     "output_type": "stream",
     "text": [
      "Similarity column 6000 ( 56 % ), 197.58 column/sec, elapsed time 0.51 min\n",
      "Similarity column 10677 ( 100 % ), 200.47 column/sec, elapsed time 0.89 min\n",
      "Evaluated user 0 of 69878\n",
      "Evaluated user 10000 of 69878\n",
      "Evaluated user 20000 of 69878\n",
      "Evaluated user 30000 of 69878\n",
      "Evaluated user 40000 of 69878\n",
      "Evaluated user 50000 of 69878\n",
      "Evaluated user 60000 of 69878\n",
      "Recommender performance is: Precision = 0.3423, Recall = 0.1112, MAP = 0.2710\n",
      "Similarity column 5500 ( 52 % ), 182.88 column/sec, elapsed time 0.50 min\n",
      "Similarity column 10677 ( 100 % ), 188.88 column/sec, elapsed time 0.94 min\n",
      "Evaluated user 0 of 69878\n",
      "Evaluated user 10000 of 69878\n",
      "Evaluated user 20000 of 69878\n",
      "Evaluated user 30000 of 69878\n",
      "Evaluated user 40000 of 69878\n",
      "Evaluated user 50000 of 69878\n",
      "Evaluated user 60000 of 69878\n",
      "Recommender performance is: Precision = 0.3657, Recall = 0.1158, MAP = 0.2973\n",
      "Similarity column 3600 ( 34 % ), 118.06 column/sec, elapsed time 0.51 min\n",
      "Similarity column 7400 ( 69 % ), 120.88 column/sec, elapsed time 1.02 min\n",
      "Similarity column 10677 ( 100 % ), 121.90 column/sec, elapsed time 1.46 min\n",
      "Evaluated user 0 of 69878\n",
      "Evaluated user 10000 of 69878\n",
      "Evaluated user 20000 of 69878\n",
      "Evaluated user 30000 of 69878\n",
      "Evaluated user 40000 of 69878\n",
      "Evaluated user 50000 of 69878\n",
      "Evaluated user 60000 of 69878\n",
      "Recommender performance is: Precision = 0.3681, Recall = 0.1157, MAP = 0.3010\n",
      "Similarity column 3600 ( 34 % ), 116.48 column/sec, elapsed time 0.52 min\n",
      "Similarity column 7200 ( 67 % ), 116.81 column/sec, elapsed time 1.03 min\n",
      "Similarity column 10677 ( 100 % ), 117.77 column/sec, elapsed time 1.51 min\n",
      "Evaluated user 0 of 69878\n",
      "Evaluated user 10000 of 69878\n",
      "Evaluated user 20000 of 69878\n",
      "Evaluated user 30000 of 69878\n",
      "Evaluated user 40000 of 69878\n",
      "Evaluated user 50000 of 69878\n",
      "Evaluated user 60000 of 69878\n",
      "Recommender performance is: Precision = 0.3711, Recall = 0.1170, MAP = 0.3053\n",
      "Similarity column 6400 ( 60 % ), 210.24 column/sec, elapsed time 0.51 min\n",
      "Similarity column 10677 ( 100 % ), 211.84 column/sec, elapsed time 0.84 min\n",
      "Evaluated user 0 of 69878\n",
      "Evaluated user 10000 of 69878\n",
      "Evaluated user 20000 of 69878\n",
      "Evaluated user 30000 of 69878\n",
      "Evaluated user 40000 of 69878\n",
      "Evaluated user 50000 of 69878\n",
      "Evaluated user 60000 of 69878\n",
      "Recommender performance is: Precision = 0.3696, Recall = 0.1176, MAP = 0.3047\n"
     ]
    }
   ],
   "source": [
    "x_tick = [10, 50, 100, 200, 500]\n",
    "MAP_per_k = []\n",
    "\n",
    "for topK in x_tick:\n",
    "    \n",
    "    recommender = ItemCFKNNRecommender(URM_train)\n",
    "    recommender.fit(shrink=0.0, topK=topK)\n",
    "    \n",
    "    result_dict = evaluate_algorithm(URM_test, recommender)\n",
    "    MAP_per_k.append(result_dict[\"MAP\"])"
   ]
  },
  {
   "cell_type": "code",
   "execution_count": 12,
   "metadata": {},
   "outputs": [
    {
     "data": {
      "image/png": "[encoded data removed]",
      "text/plain": [
       "<Figure size 432x288 with 1 Axes>"
      ]
     },
     "metadata": {
      "needs_background": "light"
     },
     "output_type": "display_data"
    }
   ],
   "source": [
    "pyplot.plot(x_tick, MAP_per_k)\n",
    "pyplot.ylabel('MAP')\n",
    "pyplot.xlabel('TopK')\n",
    "pyplot.show()"
   ]
  },
  {
   "cell_type": "markdown",
   "metadata": {},
   "source": [
    "#### On this dataset the number of neighbors has a great impact on MAP.\n",
    "\n",
    "#### Different datasets will behave in different ways."
   ]
  },
  {
   "cell_type": "markdown",
   "metadata": {},
   "source": [
    "### Shrinkage"
   ]
  },
  {
   "cell_type": "code",
   "execution_count": 13,
   "metadata": {},
   "outputs": [
    {
     "name": "stdout",
     "output_type": "stream",
     "text": [
      "Similarity column 6400 ( 60 % ), 212.73 column/sec, elapsed time 0.50 min\n",
      "Similarity column 10677 ( 100 % ), 211.23 column/sec, elapsed time 0.84 min\n",
      "Evaluated user 0 of 69878\n",
      "Evaluated user 10000 of 69878\n",
      "Evaluated user 20000 of 69878\n",
      "Evaluated user 30000 of 69878\n",
      "Evaluated user 40000 of 69878\n",
      "Evaluated user 50000 of 69878\n",
      "Evaluated user 60000 of 69878\n",
      "Recommender performance is: Precision = 0.3681, Recall = 0.1157, MAP = 0.3010\n",
      "Similarity column 6400 ( 60 % ), 211.53 column/sec, elapsed time 0.50 min\n",
      "Similarity column 10677 ( 100 % ), 211.66 column/sec, elapsed time 0.84 min\n",
      "Evaluated user 0 of 69878\n",
      "Evaluated user 10000 of 69878\n",
      "Evaluated user 20000 of 69878\n",
      "Evaluated user 30000 of 69878\n",
      "Evaluated user 40000 of 69878\n",
      "Evaluated user 50000 of 69878\n",
      "Evaluated user 60000 of 69878\n",
      "Recommender performance is: Precision = 0.3681, Recall = 0.1156, MAP = 0.3010\n",
      "Similarity column 6300 ( 59 % ), 207.19 column/sec, elapsed time 0.51 min\n",
      "Similarity column 10677 ( 100 % ), 208.61 column/sec, elapsed time 0.85 min\n",
      "Evaluated user 0 of 69878\n",
      "Evaluated user 10000 of 69878\n",
      "Evaluated user 20000 of 69878\n",
      "Evaluated user 30000 of 69878\n",
      "Evaluated user 40000 of 69878\n",
      "Evaluated user 50000 of 69878\n",
      "Evaluated user 60000 of 69878\n",
      "Recommender performance is: Precision = 0.3681, Recall = 0.1156, MAP = 0.3010\n",
      "Similarity column 6300 ( 59 % ), 208.73 column/sec, elapsed time 0.50 min\n",
      "Similarity column 10677 ( 100 % ), 209.47 column/sec, elapsed time 0.85 min\n",
      "Evaluated user 0 of 69878\n",
      "Evaluated user 10000 of 69878\n",
      "Evaluated user 20000 of 69878\n",
      "Evaluated user 30000 of 69878\n",
      "Evaluated user 40000 of 69878\n",
      "Evaluated user 50000 of 69878\n",
      "Evaluated user 60000 of 69878\n",
      "Recommender performance is: Precision = 0.3680, Recall = 0.1156, MAP = 0.3010\n",
      "Similarity column 6400 ( 60 % ), 211.40 column/sec, elapsed time 0.50 min\n",
      "Similarity column 10677 ( 100 % ), 211.43 column/sec, elapsed time 0.84 min\n",
      "Evaluated user 0 of 69878\n",
      "Evaluated user 10000 of 69878\n",
      "Evaluated user 20000 of 69878\n",
      "Evaluated user 30000 of 69878\n",
      "Evaluated user 40000 of 69878\n",
      "Evaluated user 50000 of 69878\n",
      "Evaluated user 60000 of 69878\n",
      "Recommender performance is: Precision = 0.3679, Recall = 0.1156, MAP = 0.3009\n",
      "Similarity column 6400 ( 60 % ), 212.90 column/sec, elapsed time 0.50 min\n",
      "Similarity column 10677 ( 100 % ), 210.91 column/sec, elapsed time 0.84 min\n",
      "Evaluated user 0 of 69878\n",
      "Evaluated user 10000 of 69878\n",
      "Evaluated user 20000 of 69878\n",
      "Evaluated user 30000 of 69878\n",
      "Evaluated user 40000 of 69878\n",
      "Evaluated user 50000 of 69878\n",
      "Evaluated user 60000 of 69878\n",
      "Recommender performance is: Precision = 0.3680, Recall = 0.1157, MAP = 0.3009\n"
     ]
    }
   ],
   "source": [
    "x_tick = [0, 10, 50, 100, 200, 500]\n",
    "MAP_per_shrinkage = []\n",
    "\n",
    "for shrink in x_tick:\n",
    "    \n",
    "    recommender = ItemCFKNNRecommender(URM_train)\n",
    "    recommender.fit(shrink=shrink, topK=100)\n",
    "    \n",
    "    result_dict = evaluate_algorithm(URM_test, recommender)\n",
    "    MAP_per_shrinkage.append(result_dict[\"MAP\"])"
   ]
  },
  {
   "cell_type": "code",
   "execution_count": 14,
   "metadata": {
    "scrolled": true
   },
   "outputs": [
    {
     "data": {
      "image/png": "[encoded data removed]",
      "text/plain": [
       "<Figure size 432x288 with 1 Axes>"
      ]
     },
     "metadata": {
      "needs_background": "light"
     },
     "output_type": "display_data"
    }
   ],
   "source": [
    "pyplot.plot(x_tick, MAP_per_shrinkage)\n",
    "pyplot.ylabel('MAP')\n",
    "pyplot.xlabel('Shrinkage')\n",
    "pyplot.show()"
   ]
  },
  {
   "cell_type": "markdown",
   "metadata": {},
   "source": [
    "#### The shrinkage value (i.e. support) has no impact. Combine a parameter search with the two to ensure maximum recommendation quality"
   ]
  },
  {
   "cell_type": "markdown",
   "metadata": {},
   "source": [
    "## REMINDER: Be careful, overfitting!\n",
    "\n",
    "#### While a thorough parameter tuning might result in significantly higher MAP on your validation split, it could have only marginally better or even worse MAP on the test set"
   ]
  },
  {
   "cell_type": "code",
   "execution_count": null,
   "metadata": {},
   "outputs": [],
   "source": []
  },
  {
   "cell_type": "markdown",
   "metadata": {},
   "source": [
    "# User-based Collaborative Filtering"
   ]
  },
  {
   "cell_type": "code",
   "execution_count": 8,
   "metadata": {},
   "outputs": [],
   "source": [
    "class UserCFKNNRecommender(object):\n",
    "    \n",
    "    def __init__(self, URM):\n",
    "        self.URM = URM\n",
    "        \n",
    "            \n",
    "    def fit(self, topK=50, shrink=100, normalize=True, similarity=\"cosine\"):\n",
    "        \n",
    "        similarity_object = Compute_Similarity_Python(self.URM.T, shrink=shrink, \n",
    "                                                  topK=topK, normalize=normalize, \n",
    "                                                  similarity = similarity)\n",
    "        \n",
    "        self.W_sparse = similarity_object.compute_similarity()\n",
    "\n",
    "        \n",
    "    def recommend(self, user_id, at=None, exclude_seen=True):\n",
    "        # compute the scores using the dot product\n",
    "        \n",
    "        scores = self.W_sparse[user_id, :].dot(self.URM).toarray().ravel()\n",
    "\n",
    "        if exclude_seen:\n",
    "            scores = self.filter_seen(user_id, scores)\n",
    "\n",
    "        # rank items\n",
    "        ranking = scores.argsort()[::-1]\n",
    "            \n",
    "        return ranking[:at]\n",
    "    \n",
    "    \n",
    "    def filter_seen(self, user_id, scores):\n",
    "\n",
    "        start_pos = self.URM.indptr[user_id]\n",
    "        end_pos = self.URM.indptr[user_id+1]\n",
    "\n",
    "        user_profile = self.URM.indices[start_pos:end_pos]\n",
    "        \n",
    "        scores[user_profile] = -np.inf\n",
    "\n",
    "        return scores"
   ]
  },
  {
   "cell_type": "markdown",
   "metadata": {},
   "source": [
    "## Test our CF recommender:"
   ]
  },
  {
   "cell_type": "code",
   "execution_count": 16,
   "metadata": {},
   "outputs": [
    {
     "name": "stdout",
     "output_type": "stream",
     "text": [
      "Similarity column 11600 ( 17 % ), 383.90 column/sec, elapsed time 0.50 min\n",
      "Similarity column 23000 ( 33 % ), 381.34 column/sec, elapsed time 1.01 min\n",
      "Similarity column 34300 ( 49 % ), 379.69 column/sec, elapsed time 1.51 min\n",
      "Similarity column 45700 ( 65 % ), 379.59 column/sec, elapsed time 2.01 min\n",
      "Similarity column 57200 ( 82 % ), 379.89 column/sec, elapsed time 2.51 min\n",
      "Similarity column 68900 ( 99 % ), 381.11 column/sec, elapsed time 3.01 min\n",
      "Similarity column 69878 ( 100 % ), 380.88 column/sec, elapsed time 3.06 min\n"
     ]
    }
   ],
   "source": [
    "recommender = UserCFKNNRecommender(URM_train)\n",
    "recommender.fit(shrink=0.0, topK=50)"
   ]
  },
  {
   "cell_type": "markdown",
   "metadata": {},
   "source": [
    "#### Let's talk about speed\n",
    "\n",
    "#### Time to compute recommendations for a fixed group of users"
   ]
  },
  {
   "cell_type": "code",
   "execution_count": 18,
   "metadata": {},
   "outputs": [
    {
     "name": "stdout",
     "output_type": "stream",
     "text": [
      "Reasonable implementation speed is 1983.17 usr/sec\n"
     ]
    }
   ],
   "source": [
    "import time\n",
    "\n",
    "n_users_to_test = 1000\n",
    "\n",
    "start_time = time.time()\n",
    "\n",
    "for user_id in range(n_users_to_test):\n",
    "    recommender.recommend(user_id, at=5)\n",
    "    \n",
    "end_time = time.time()\n",
    "\n",
    "print(\"Reasonable implementation speed is {:.2f} usr/sec\".format(n_users_to_test/(end_time-start_time)))\n"
   ]
  },
  {
   "cell_type": "markdown",
   "metadata": {},
   "source": [
    "## Parameter tuning\n",
    "\n",
    "#### Once we have built our model we can play with its parameters\n",
    "* Number of neighbors\n",
    "* Shrinkage\n",
    "* Similarity type"
   ]
  },
  {
   "cell_type": "markdown",
   "metadata": {},
   "source": [
    "#### Number of neighbors"
   ]
  },
  {
   "cell_type": "code",
   "execution_count": 9,
   "metadata": {},
   "outputs": [
    {
     "name": "stdout",
     "output_type": "stream",
     "text": [
      "Similarity column 7000 ( 10 % ), 231.95 column/sec, elapsed time 0.50 min\n",
      "Similarity column 14100 ( 20 % ), 233.65 column/sec, elapsed time 1.01 min\n",
      "Similarity column 21200 ( 30 % ), 232.25 column/sec, elapsed time 1.52 min\n",
      "Similarity column 28100 ( 40 % ), 231.27 column/sec, elapsed time 2.03 min\n",
      "Similarity column 35300 ( 51 % ), 232.76 column/sec, elapsed time 2.53 min\n",
      "Similarity column 42500 ( 61 % ), 232.74 column/sec, elapsed time 3.04 min\n",
      "Similarity column 49600 ( 71 % ), 232.86 column/sec, elapsed time 3.55 min\n",
      "Similarity column 56600 ( 81 % ), 232.73 column/sec, elapsed time 4.05 min\n",
      "Similarity column 63900 ( 91 % ), 233.20 column/sec, elapsed time 4.57 min\n",
      "Similarity column 69878 ( 100 % ), 232.92 column/sec, elapsed time 5.00 min\n",
      "Evaluated user 0 of 69878\n",
      "Evaluated user 10000 of 69878\n",
      "Evaluated user 20000 of 69878\n",
      "Evaluated user 30000 of 69878\n",
      "Evaluated user 40000 of 69878\n",
      "Evaluated user 50000 of 69878\n",
      "Evaluated user 60000 of 69878\n",
      "Recommender performance is: Precision = 0.2488, Recall = 0.0869, MAP = 0.1973\n",
      "Similarity column 7000 ( 10 % ), 230.57 column/sec, elapsed time 0.51 min\n",
      "Similarity column 13800 ( 20 % ), 227.85 column/sec, elapsed time 1.01 min\n",
      "Similarity column 20700 ( 30 % ), 226.27 column/sec, elapsed time 1.52 min\n",
      "Similarity column 28000 ( 40 % ), 229.38 column/sec, elapsed time 2.03 min\n",
      "Similarity column 35000 ( 50 % ), 230.02 column/sec, elapsed time 2.54 min\n",
      "Similarity column 41100 ( 59 % ), 225.55 column/sec, elapsed time 3.04 min\n",
      "Similarity column 47600 ( 68 % ), 224.12 column/sec, elapsed time 3.54 min\n",
      "Similarity column 54500 ( 78 % ), 224.81 column/sec, elapsed time 4.04 min\n",
      "Similarity column 61600 ( 88 % ), 226.00 column/sec, elapsed time 4.54 min\n",
      "Similarity column 68300 ( 98 % ), 225.37 column/sec, elapsed time 5.05 min\n",
      "Similarity column 69878 ( 100 % ), 226.05 column/sec, elapsed time 5.15 min\n",
      "Evaluated user 0 of 69878\n",
      "Evaluated user 10000 of 69878\n",
      "Evaluated user 20000 of 69878\n",
      "Evaluated user 30000 of 69878\n",
      "Evaluated user 40000 of 69878\n",
      "Evaluated user 50000 of 69878\n",
      "Evaluated user 60000 of 69878\n",
      "Recommender performance is: Precision = 0.3721, Recall = 0.1289, MAP = 0.3089\n",
      "Similarity column 6800 ( 10 % ), 226.49 column/sec, elapsed time 0.50 min\n",
      "Similarity column 13500 ( 19 % ), 223.51 column/sec, elapsed time 1.01 min\n",
      "Similarity column 20400 ( 29 % ), 225.45 column/sec, elapsed time 1.51 min\n",
      "Similarity column 27500 ( 39 % ), 228.07 column/sec, elapsed time 2.01 min\n",
      "Similarity column 34500 ( 49 % ), 228.47 column/sec, elapsed time 2.52 min\n",
      "Similarity column 41600 ( 60 % ), 229.35 column/sec, elapsed time 3.02 min\n",
      "Similarity column 48600 ( 70 % ), 229.29 column/sec, elapsed time 3.53 min\n",
      "Similarity column 55700 ( 80 % ), 229.93 column/sec, elapsed time 4.04 min\n",
      "Similarity column 62700 ( 90 % ), 230.13 column/sec, elapsed time 4.54 min\n",
      "Similarity column 69100 ( 99 % ), 228.41 column/sec, elapsed time 5.04 min\n",
      "Similarity column 69878 ( 100 % ), 228.19 column/sec, elapsed time 5.10 min\n",
      "Evaluated user 0 of 69878\n",
      "Evaluated user 10000 of 69878\n",
      "Evaluated user 20000 of 69878\n",
      "Evaluated user 30000 of 69878\n",
      "Evaluated user 40000 of 69878\n",
      "Evaluated user 50000 of 69878\n",
      "Evaluated user 60000 of 69878\n",
      "Recommender performance is: Precision = 0.4101, Recall = 0.1417, MAP = 0.3451\n",
      "Similarity column 6800 ( 10 % ), 225.44 column/sec, elapsed time 0.50 min\n",
      "Similarity column 13900 ( 20 % ), 229.11 column/sec, elapsed time 1.01 min\n",
      "Similarity column 21000 ( 30 % ), 230.98 column/sec, elapsed time 1.52 min\n",
      "Similarity column 28100 ( 40 % ), 231.96 column/sec, elapsed time 2.02 min\n",
      "Similarity column 34900 ( 50 % ), 229.46 column/sec, elapsed time 2.53 min\n",
      "Similarity column 41800 ( 60 % ), 229.08 column/sec, elapsed time 3.04 min\n",
      "Similarity column 48800 ( 70 % ), 229.62 column/sec, elapsed time 3.54 min\n",
      "Similarity column 55800 ( 80 % ), 229.32 column/sec, elapsed time 4.06 min\n",
      "Similarity column 62900 ( 90 % ), 229.90 column/sec, elapsed time 4.56 min\n",
      "Similarity column 69878 ( 100 % ), 230.14 column/sec, elapsed time 5.06 min\n",
      "Evaluated user 0 of 69878\n",
      "Evaluated user 10000 of 69878\n",
      "Evaluated user 20000 of 69878\n",
      "Evaluated user 30000 of 69878\n",
      "Evaluated user 40000 of 69878\n",
      "Evaluated user 50000 of 69878\n",
      "Evaluated user 60000 of 69878\n",
      "Recommender performance is: Precision = 0.4336, Recall = 0.1496, MAP = 0.3687\n",
      "Similarity column 6600 (  9 % ), 216.45 column/sec, elapsed time 0.51 min\n",
      "Similarity column 12600 ( 18 % ), 207.99 column/sec, elapsed time 1.01 min\n",
      "Similarity column 19600 ( 28 % ), 214.64 column/sec, elapsed time 1.52 min\n",
      "Similarity column 26300 ( 38 % ), 216.60 column/sec, elapsed time 2.02 min\n",
      "Similarity column 33200 ( 48 % ), 219.09 column/sec, elapsed time 2.53 min\n",
      "Similarity column 39900 ( 57 % ), 219.53 column/sec, elapsed time 3.03 min\n",
      "Similarity column 46600 ( 67 % ), 219.64 column/sec, elapsed time 3.54 min\n",
      "Similarity column 53500 ( 77 % ), 220.74 column/sec, elapsed time 4.04 min\n",
      "Similarity column 60300 ( 86 % ), 221.29 column/sec, elapsed time 4.54 min\n",
      "Similarity column 67000 ( 96 % ), 221.32 column/sec, elapsed time 5.05 min\n",
      "Similarity column 69878 ( 100 % ), 220.92 column/sec, elapsed time 5.27 min\n",
      "Evaluated user 0 of 69878\n",
      "Evaluated user 10000 of 69878\n",
      "Evaluated user 20000 of 69878\n",
      "Evaluated user 30000 of 69878\n",
      "Evaluated user 40000 of 69878\n",
      "Evaluated user 50000 of 69878\n",
      "Evaluated user 60000 of 69878\n",
      "Recommender performance is: Precision = 0.4474, Recall = 0.1538, MAP = 0.3820\n"
     ]
    }
   ],
   "source": [
    "x_tick = [10, 50, 100, 200, 500]\n",
    "MAP_per_k = []\n",
    "\n",
    "for topK in x_tick:\n",
    "    \n",
    "    recommender = UserCFKNNRecommender(URM_train)\n",
    "    recommender.fit(shrink=0.0, topK=topK)\n",
    "    \n",
    "    result_dict = evaluate_algorithm(URM_test, recommender)\n",
    "    MAP_per_k.append(result_dict[\"MAP\"])"
   ]
  },
  {
   "cell_type": "code",
   "execution_count": 10,
   "metadata": {},
   "outputs": [
    {
     "data": {
      "image/png": "[encoded data removed]",
      "text/plain": [
       "<Figure size 432x288 with 1 Axes>"
      ]
     },
     "metadata": {
      "needs_background": "light"
     },
     "output_type": "display_data"
    }
   ],
   "source": [
    "pyplot.plot(x_tick, MAP_per_k)\n",
    "pyplot.ylabel('MAP')\n",
    "pyplot.xlabel('TopK')\n",
    "pyplot.show()"
   ]
  },
  {
   "cell_type": "markdown",
   "metadata": {},
   "source": [
    "#### On this dataset the number of neighbors does not have a great impact on MAP. Higher values of TopK might work even better\n",
    "\n",
    "#### Different datasets will behave in different ways."
   ]
  },
  {
   "cell_type": "markdown",
   "metadata": {},
   "source": [
    "### Shrinkage"
   ]
  },
  {
   "cell_type": "code",
   "execution_count": 12,
   "metadata": {},
   "outputs": [
    {
     "name": "stdout",
     "output_type": "stream",
     "text": [
      "Similarity column 13500 ( 19 % ), 449.89 column/sec, elapsed time 0.50 min\n",
      "Similarity column 27100 ( 39 % ), 450.97 column/sec, elapsed time 1.00 min\n",
      "Similarity column 40700 ( 58 % ), 451.49 column/sec, elapsed time 1.50 min\n",
      "Similarity column 54200 ( 78 % ), 450.61 column/sec, elapsed time 2.00 min\n",
      "Similarity column 67800 ( 97 % ), 450.69 column/sec, elapsed time 2.51 min\n",
      "Similarity column 69878 ( 100 % ), 450.62 column/sec, elapsed time 2.58 min\n",
      "Evaluated user 0 of 69878\n",
      "Evaluated user 10000 of 69878\n",
      "Evaluated user 20000 of 69878\n",
      "Evaluated user 30000 of 69878\n",
      "Evaluated user 40000 of 69878\n",
      "Evaluated user 50000 of 69878\n",
      "Evaluated user 60000 of 69878\n",
      "Recommender performance is: Precision = 0.4101, Recall = 0.1417, MAP = 0.3451\n",
      "Similarity column 13600 ( 19 % ), 450.66 column/sec, elapsed time 0.50 min\n",
      "Similarity column 27200 ( 39 % ), 451.24 column/sec, elapsed time 1.00 min\n",
      "Similarity column 40900 ( 59 % ), 451.96 column/sec, elapsed time 1.51 min\n",
      "Similarity column 54500 ( 78 % ), 451.95 column/sec, elapsed time 2.01 min\n",
      "Similarity column 67900 ( 97 % ), 450.84 column/sec, elapsed time 2.51 min\n",
      "Similarity column 69878 ( 100 % ), 450.77 column/sec, elapsed time 2.58 min\n",
      "Evaluated user 0 of 69878\n",
      "Evaluated user 10000 of 69878\n",
      "Evaluated user 20000 of 69878\n",
      "Evaluated user 30000 of 69878\n",
      "Evaluated user 40000 of 69878\n",
      "Evaluated user 50000 of 69878\n",
      "Evaluated user 60000 of 69878\n",
      "Recommender performance is: Precision = 0.4098, Recall = 0.1413, MAP = 0.3448\n",
      "Similarity column 13500 ( 19 % ), 449.72 column/sec, elapsed time 0.50 min\n",
      "Similarity column 27100 ( 39 % ), 450.48 column/sec, elapsed time 1.00 min\n",
      "Similarity column 40700 ( 58 % ), 451.21 column/sec, elapsed time 1.50 min\n",
      "Similarity column 54300 ( 78 % ), 451.37 column/sec, elapsed time 2.01 min\n",
      "Similarity column 67900 ( 97 % ), 451.37 column/sec, elapsed time 2.51 min\n",
      "Similarity column 69878 ( 100 % ), 451.29 column/sec, elapsed time 2.58 min\n",
      "Evaluated user 0 of 69878\n",
      "Evaluated user 10000 of 69878\n",
      "Evaluated user 20000 of 69878\n",
      "Evaluated user 30000 of 69878\n",
      "Evaluated user 40000 of 69878\n",
      "Evaluated user 50000 of 69878\n",
      "Evaluated user 60000 of 69878\n",
      "Recommender performance is: Precision = 0.4091, Recall = 0.1397, MAP = 0.3447\n",
      "Similarity column 13600 ( 19 % ), 450.62 column/sec, elapsed time 0.50 min\n",
      "Similarity column 27200 ( 39 % ), 451.01 column/sec, elapsed time 1.01 min\n",
      "Similarity column 40800 ( 58 % ), 451.57 column/sec, elapsed time 1.51 min\n",
      "Similarity column 54400 ( 78 % ), 451.46 column/sec, elapsed time 2.01 min\n",
      "Similarity column 67900 ( 97 % ), 450.90 column/sec, elapsed time 2.51 min\n",
      "Similarity column 69878 ( 100 % ), 450.84 column/sec, elapsed time 2.58 min\n",
      "Evaluated user 0 of 69878\n",
      "Evaluated user 10000 of 69878\n",
      "Evaluated user 20000 of 69878\n",
      "Evaluated user 30000 of 69878\n",
      "Evaluated user 40000 of 69878\n",
      "Evaluated user 50000 of 69878\n",
      "Evaluated user 60000 of 69878\n",
      "Recommender performance is: Precision = 0.4061, Recall = 0.1368, MAP = 0.3425\n",
      "Similarity column 13600 ( 19 % ), 450.15 column/sec, elapsed time 0.50 min\n",
      "Similarity column 27200 ( 39 % ), 450.85 column/sec, elapsed time 1.01 min\n",
      "Similarity column 40800 ( 58 % ), 451.26 column/sec, elapsed time 1.51 min\n",
      "Similarity column 54400 ( 78 % ), 451.15 column/sec, elapsed time 2.01 min\n",
      "Similarity column 68000 ( 97 % ), 451.02 column/sec, elapsed time 2.51 min\n",
      "Similarity column 69878 ( 100 % ), 450.93 column/sec, elapsed time 2.58 min\n",
      "Evaluated user 0 of 69878\n",
      "Evaluated user 10000 of 69878\n",
      "Evaluated user 20000 of 69878\n",
      "Evaluated user 30000 of 69878\n",
      "Evaluated user 40000 of 69878\n",
      "Evaluated user 50000 of 69878\n",
      "Evaluated user 60000 of 69878\n",
      "Recommender performance is: Precision = 0.3973, Recall = 0.1293, MAP = 0.3353\n",
      "Similarity column 13500 ( 19 % ), 448.32 column/sec, elapsed time 0.50 min\n",
      "Similarity column 27000 ( 39 % ), 449.12 column/sec, elapsed time 1.00 min\n",
      "Similarity column 40500 ( 58 % ), 448.68 column/sec, elapsed time 1.50 min\n",
      "Similarity column 54100 ( 77 % ), 449.06 column/sec, elapsed time 2.01 min\n",
      "Similarity column 67600 ( 97 % ), 449.11 column/sec, elapsed time 2.51 min\n",
      "Similarity column 69878 ( 100 % ), 449.06 column/sec, elapsed time 2.59 min\n",
      "Evaluated user 0 of 69878\n",
      "Evaluated user 10000 of 69878\n",
      "Evaluated user 20000 of 69878\n",
      "Evaluated user 30000 of 69878\n",
      "Evaluated user 40000 of 69878\n",
      "Evaluated user 50000 of 69878\n",
      "Evaluated user 60000 of 69878\n",
      "Recommender performance is: Precision = 0.3669, Recall = 0.1094, MAP = 0.3109\n"
     ]
    }
   ],
   "source": [
    "x_tick = [0, 10, 50, 100, 200, 500]\n",
    "MAP_per_shrinkage = []\n",
    "\n",
    "for shrink in x_tick:\n",
    "    \n",
    "    recommender = UserCFKNNRecommender(URM_train)\n",
    "    recommender.fit(shrink=shrink, topK=100)\n",
    "    \n",
    "    result_dict = evaluate_algorithm(URM_test, recommender)\n",
    "    MAP_per_shrinkage.append(result_dict[\"MAP\"])"
   ]
  },
  {
   "cell_type": "code",
   "execution_count": 13,
   "metadata": {
    "scrolled": true
   },
   "outputs": [
    {
     "data": {
      "image/png": "[encoded data removed]",
      "text/plain": [
       "<Figure size 432x288 with 1 Axes>"
      ]
     },
     "metadata": {
      "needs_background": "light"
     },
     "output_type": "display_data"
    }
   ],
   "source": [
    "pyplot.plot(x_tick, MAP_per_shrinkage)\n",
    "pyplot.ylabel('MAP')\n",
    "pyplot.xlabel('Shrinkage')\n",
    "pyplot.show()"
   ]
  },
  {
   "cell_type": "code",
   "execution_count": null,
   "metadata": {},
   "outputs": [],
   "source": []
  },
  {
   "cell_type": "markdown",
   "metadata": {},
   "source": [
    "## And now load the content information:"
   ]
  },
  {
   "cell_type": "code",
   "execution_count": 14,
   "metadata": {},
   "outputs": [],
   "source": [
    "ICM_path = dataFile.extract(\"ml-10M100K/tags.dat\", path = \"data/Movielens_10M\")\n",
    "ICM_file = open(ICM_path, 'r')\n",
    "\n",
    "def rowSplit (rowString):\n",
    "    split = rowString.split(\"::\")\n",
    "    split[3] = split[3].replace(\"\\n\",\"\")\n",
    "    \n",
    "    split[0] = int(split[0])\n",
    "    split[1] = int(split[1])\n",
    "    split[2] = str(split[2]) # tag is a string, not a float like the rating\n",
    "    split[3] = int(split[3])\n",
    "    \n",
    "    result = tuple(split)\n",
    "    \n",
    "    return result\n",
    "\n",
    "ICM_file.seek(0)\n",
    "ICM_tuples = []\n",
    "\n",
    "for line in ICM_file:\n",
    "    ICM_tuples.append(rowSplit(line))\n",
    "    \n",
    "userList_icm, itemList_icm, tagList_icm, timestampList_icm = zip(*ICM_tuples)\n",
    "\n",
    "userList_icm = list(userList_icm)\n",
    "itemList_icm = list(itemList_icm)\n",
    "tagList_icm = list(tagList_icm)\n",
    "timestampList_icm = list(timestampList_icm)\n"
   ]
  },
  {
   "cell_type": "code",
   "execution_count": 15,
   "metadata": {},
   "outputs": [
    {
     "name": "stdout",
     "output_type": "stream",
     "text": [
      "Users ICM data, ID: min 15, max 71556, unique 4009, missig 94.40 %\n",
      "Items ICM data, ID: min 1, max 65130, unique 7601, missig 88.33 %\n"
     ]
    }
   ],
   "source": [
    "list_ID_stats(userList_icm, \"Users ICM\")\n",
    "list_ID_stats(itemList_icm, \"Items ICM\")"
   ]
  },
  {
   "cell_type": "markdown",
   "metadata": {},
   "source": [
    "### The numbers of items and users in the ICM matrix is different from what we saw in the URM, why?\n",
    "\n",
    "### The tags are string, we should traslate them into numbers so we can use them as indices in the ICM"
   ]
  },
  {
   "cell_type": "code",
   "execution_count": 16,
   "metadata": {},
   "outputs": [
    {
     "name": "stdout",
     "output_type": "stream",
     "text": [
      "[ 9814 13375 14131  8515 10769 14070  7015  8071 14829 14900]\n"
     ]
    }
   ],
   "source": [
    "from sklearn import preprocessing\n",
    "le = preprocessing.LabelEncoder()\n",
    "le.fit(tagList_icm)\n",
    "\n",
    "tagList_icm = le.transform(tagList_icm)\n",
    "\n",
    "print(tagList_icm[0:10])"
   ]
  },
  {
   "cell_type": "markdown",
   "metadata": {},
   "source": [
    "# We can now build the ICM\n",
    "\n",
    "#### Be careful with the indices!"
   ]
  },
  {
   "cell_type": "code",
   "execution_count": 17,
   "metadata": {},
   "outputs": [
    {
     "data": {
      "text/plain": [
       "<65134x16529 sparse matrix of type '<class 'numpy.float64'>'\n",
       "\twith 71155 stored elements in Compressed Sparse Row format>"
      ]
     },
     "execution_count": 17,
     "metadata": {},
     "output_type": "execute_result"
    }
   ],
   "source": [
    "import numpy as np\n",
    "\n",
    "n_items = len(warm_items_mask)\n",
    "n_tags = max(tagList_icm) + 1\n",
    "\n",
    "ICM_shape = (n_items, n_tags)\n",
    "\n",
    "ones = np.ones(len(tagList_icm))\n",
    "ICM_all = sps.coo_matrix((ones, (itemList_icm, tagList_icm)), shape = ICM_shape)\n",
    "ICM_all = ICM_all.tocsr()\n",
    "\n",
    "ICM_all"
   ]
  },
  {
   "cell_type": "markdown",
   "metadata": {},
   "source": [
    "## Remember the mapping of the URM? It is not the same of the ICM one anymore!\n",
    "## We have to keep only the warm items also in the ICM"
   ]
  },
  {
   "cell_type": "code",
   "execution_count": 18,
   "metadata": {},
   "outputs": [
    {
     "data": {
      "text/plain": [
       "<10677x16529 sparse matrix of type '<class 'numpy.float64'>'\n",
       "\twith 71125 stored elements in Compressed Sparse Row format>"
      ]
     },
     "execution_count": 18,
     "metadata": {},
     "output_type": "execute_result"
    }
   ],
   "source": [
    "ICM_all = ICM_all[warm_items, :]\n",
    "ICM_all = ICM_all.tocsr()\n",
    "\n",
    "ICM_all"
   ]
  },
  {
   "cell_type": "markdown",
   "metadata": {},
   "source": [
    "## We can also remove the features that have no occurencies anymore"
   ]
  },
  {
   "cell_type": "code",
   "execution_count": 19,
   "metadata": {},
   "outputs": [
    {
     "data": {
      "text/plain": [
       "<10677x16529 sparse matrix of type '<class 'numpy.float64'>'\n",
       "\twith 71125 stored elements in Compressed Sparse Row format>"
      ]
     },
     "execution_count": 19,
     "metadata": {},
     "output_type": "execute_result"
    }
   ],
   "source": [
    "warm_features_mask = np.ediff1d(ICM_all.tocsc().indptr) > 0\n",
    "warm_features = np.arange(ICM_all.shape[1])[warm_features_mask]\n",
    "# Don't forget to keep the mapping\n",
    "\n",
    "ICM_all = ICM_all[:, warm_features]\n",
    "ICM_all = ICM_all.tocsr()\n",
    "\n",
    "ICM_all"
   ]
  },
  {
   "cell_type": "markdown",
   "metadata": {},
   "source": [
    "## We could have items without features..."
   ]
  },
  {
   "cell_type": "code",
   "execution_count": 20,
   "metadata": {},
   "outputs": [
    {
     "data": {
      "text/plain": [
       "3080"
      ]
     },
     "execution_count": 20,
     "metadata": {},
     "output_type": "execute_result"
    }
   ],
   "source": [
    "nofeatures_items_mask = np.ediff1d(ICM_all.tocsr().indptr) <= 0\n",
    "nofeatures_items_mask.sum()"
   ]
  },
  {
   "cell_type": "markdown",
   "metadata": {},
   "source": [
    "## We might not remove them in some cases, but we will do it for our comparison"
   ]
  },
  {
   "cell_type": "code",
   "execution_count": 22,
   "metadata": {},
   "outputs": [
    {
     "data": {
      "text/plain": [
       "<7597x16529 sparse matrix of type '<class 'numpy.float64'>'\n",
       "\twith 71125 stored elements in Compressed Sparse Row format>"
      ]
     },
     "execution_count": 22,
     "metadata": {},
     "output_type": "execute_result"
    }
   ],
   "source": [
    "warm_items_mask_2 = np.ediff1d(ICM_all.tocsr().indptr) > 0\n",
    "warm_items_2 = np.arange(ICM_all.shape[0])[warm_items_mask_2]\n",
    "\n",
    "ICM_all = ICM_all[warm_items_2, :]\n",
    "ICM_all = ICM_all.tocsr()\n",
    "\n",
    "ICM_all"
   ]
  },
  {
   "cell_type": "markdown",
   "metadata": {},
   "source": [
    "## Now we have to remove these items also from the URM and the cold users consequently"
   ]
  },
  {
   "cell_type": "code",
   "execution_count": 23,
   "metadata": {},
   "outputs": [
    {
     "data": {
      "text/plain": [
       "<69878x7597 sparse matrix of type '<class 'numpy.float64'>'\n",
       "\twith 9708495 stored elements in Compressed Sparse Row format>"
      ]
     },
     "execution_count": 23,
     "metadata": {},
     "output_type": "execute_result"
    }
   ],
   "source": [
    "URM_all = URM_all[:, warm_items_2]\n",
    "URM_all = URM_all.tocsr()\n",
    "\n",
    "warm_users_mask_2 = np.ediff1d(URM_all.tocsr().indptr) > 0\n",
    "warm_users_2 = np.arange(URM_all.shape[0])[warm_users_mask_2]\n",
    "\n",
    "URM_all = URM_all[warm_users_2, :]\n",
    "URM_all = URM_all.tocsr()\n",
    "\n",
    "URM_all"
   ]
  },
  {
   "cell_type": "markdown",
   "metadata": {},
   "source": [
    "## Split the new URM for train and test"
   ]
  },
  {
   "cell_type": "code",
   "execution_count": 24,
   "metadata": {},
   "outputs": [],
   "source": [
    "from Notebooks_utils.data_splitter import train_test_holdout\n",
    "\n",
    "\n",
    "URM_train, URM_test = train_test_holdout(URM_all, train_perc = 0.8)\n",
    "\n",
    "\n",
    "from Notebooks_utils.evaluation_function import evaluate_algorithm\n",
    "from Base.Similarity.Compute_Similarity_Python import Compute_Similarity_Python"
   ]
  },
  {
   "cell_type": "markdown",
   "metadata": {},
   "source": [
    "## We are finally ready for the comparison"
   ]
  },
  {
   "cell_type": "markdown",
   "metadata": {},
   "source": [
    "### Rewrite the content-based recommender"
   ]
  },
  {
   "cell_type": "code",
   "execution_count": 25,
   "metadata": {},
   "outputs": [],
   "source": [
    "class ItemCBFKNNRecommender(object):\n",
    "    \n",
    "    def __init__(self, URM, ICM):\n",
    "        self.URM = URM\n",
    "        self.ICM = ICM\n",
    "        \n",
    "            \n",
    "    def fit(self, topK=50, shrink=100, normalize=True, similarity=\"cosine\"):\n",
    "        \n",
    "        similarity_object = Compute_Similarity_Python(self.ICM.T, shrink=shrink, \n",
    "                                                  topK=topK, normalize=normalize, \n",
    "                                                  similarity = similarity)\n",
    "        \n",
    "        self.W_sparse = similarity_object.compute_similarity()\n",
    "\n",
    "        \n",
    "    def recommend(self, user_id, at=None, exclude_seen=True):\n",
    "        # compute the scores using the dot product\n",
    "        user_profile = self.URM[user_id]\n",
    "        scores = user_profile.dot(self.W_sparse).toarray().ravel()\n",
    "\n",
    "        if exclude_seen:\n",
    "            scores = self.filter_seen(user_id, scores)\n",
    "\n",
    "        # rank items\n",
    "        ranking = scores.argsort()[::-1]\n",
    "            \n",
    "        return ranking[:at]\n",
    "    \n",
    "    \n",
    "    def filter_seen(self, user_id, scores):\n",
    "\n",
    "        start_pos = self.URM.indptr[user_id]\n",
    "        end_pos = self.URM.indptr[user_id+1]\n",
    "\n",
    "        user_profile = self.URM.indices[start_pos:end_pos]\n",
    "        \n",
    "        scores[user_profile] = -np.inf\n",
    "\n",
    "        return scores"
   ]
  },
  {
   "cell_type": "code",
   "execution_count": 28,
   "metadata": {},
   "outputs": [
    {
     "name": "stdout",
     "output_type": "stream",
     "text": [
      "Similarity column 7597 ( 100 % ), 9301.33 column/sec, elapsed time 0.01 min\n",
      "Similarity column 7597 ( 100 % ), 339.18 column/sec, elapsed time 0.37 min\n",
      "Evaluated user 0 of 69878\n",
      "Evaluated user 10000 of 69878\n",
      "Evaluated user 20000 of 69878\n",
      "Evaluated user 30000 of 69878\n",
      "Evaluated user 40000 of 69878\n",
      "Evaluated user 50000 of 69878\n",
      "Evaluated user 60000 of 69878\n",
      "Recommender performance is: Precision = 0.1155, Recall = 0.0248, MAP = 0.0830\n",
      "Evaluated user 0 of 69878\n",
      "Evaluated user 10000 of 69878\n",
      "Evaluated user 20000 of 69878\n",
      "Evaluated user 30000 of 69878\n",
      "Evaluated user 40000 of 69878\n",
      "Evaluated user 50000 of 69878\n",
      "Evaluated user 60000 of 69878\n",
      "Recommender performance is: Precision = 0.3648, Recall = 0.1178, MAP = 0.2972\n",
      "Similarity column 7597 ( 100 % ), 9433.81 column/sec, elapsed time 0.01 min\n",
      "Similarity column 7597 ( 100 % ), 339.62 column/sec, elapsed time 0.37 min\n",
      "Evaluated user 0 of 69878\n",
      "Evaluated user 10000 of 69878\n",
      "Evaluated user 20000 of 69878\n",
      "Evaluated user 30000 of 69878\n",
      "Evaluated user 40000 of 69878\n",
      "Evaluated user 50000 of 69878\n",
      "Evaluated user 60000 of 69878\n",
      "Recommender performance is: Precision = 0.1339, Recall = 0.0284, MAP = 0.0987\n",
      "Evaluated user 0 of 69878\n",
      "Evaluated user 10000 of 69878\n",
      "Evaluated user 20000 of 69878\n",
      "Evaluated user 30000 of 69878\n",
      "Evaluated user 40000 of 69878\n",
      "Evaluated user 50000 of 69878\n",
      "Evaluated user 60000 of 69878\n",
      "Recommender performance is: Precision = 0.3648, Recall = 0.1178, MAP = 0.2972\n",
      "Similarity column 7597 ( 100 % ), 9071.76 column/sec, elapsed time 0.01 min\n",
      "Similarity column 7597 ( 100 % ), 339.21 column/sec, elapsed time 0.37 min\n",
      "Evaluated user 0 of 69878\n",
      "Evaluated user 10000 of 69878\n",
      "Evaluated user 20000 of 69878\n",
      "Evaluated user 30000 of 69878\n",
      "Evaluated user 40000 of 69878\n",
      "Evaluated user 50000 of 69878\n",
      "Evaluated user 60000 of 69878\n",
      "Recommender performance is: Precision = 0.1430, Recall = 0.0301, MAP = 0.1053\n",
      "Evaluated user 0 of 69878\n",
      "Evaluated user 10000 of 69878\n",
      "Evaluated user 20000 of 69878\n",
      "Evaluated user 30000 of 69878\n",
      "Evaluated user 40000 of 69878\n",
      "Evaluated user 50000 of 69878\n",
      "Evaluated user 60000 of 69878\n",
      "Recommender performance is: Precision = 0.3648, Recall = 0.1177, MAP = 0.2972\n",
      "Similarity column 7597 ( 100 % ), 8930.59 column/sec, elapsed time 0.01 min\n",
      "Similarity column 7597 ( 100 % ), 339.48 column/sec, elapsed time 0.37 min\n",
      "Evaluated user 0 of 69878\n",
      "Evaluated user 10000 of 69878\n",
      "Evaluated user 20000 of 69878\n",
      "Evaluated user 30000 of 69878\n",
      "Evaluated user 40000 of 69878\n",
      "Evaluated user 50000 of 69878\n",
      "Evaluated user 60000 of 69878\n",
      "Recommender performance is: Precision = 0.1193, Recall = 0.0255, MAP = 0.0865\n",
      "Evaluated user 0 of 69878\n",
      "Evaluated user 10000 of 69878\n",
      "Evaluated user 20000 of 69878\n",
      "Evaluated user 30000 of 69878\n",
      "Evaluated user 40000 of 69878\n",
      "Evaluated user 50000 of 69878\n",
      "Evaluated user 60000 of 69878\n",
      "Recommender performance is: Precision = 0.3688, Recall = 0.1182, MAP = 0.3022\n",
      "Similarity column 7597 ( 100 % ), 8931.03 column/sec, elapsed time 0.01 min\n",
      "Similarity column 7597 ( 100 % ), 339.22 column/sec, elapsed time 0.37 min\n",
      "Evaluated user 0 of 69878\n",
      "Evaluated user 10000 of 69878\n",
      "Evaluated user 20000 of 69878\n",
      "Evaluated user 30000 of 69878\n",
      "Evaluated user 40000 of 69878\n",
      "Evaluated user 50000 of 69878\n",
      "Evaluated user 60000 of 69878\n",
      "Recommender performance is: Precision = 0.1378, Recall = 0.0294, MAP = 0.1005\n",
      "Evaluated user 0 of 69878\n",
      "Evaluated user 10000 of 69878\n",
      "Evaluated user 20000 of 69878\n",
      "Evaluated user 30000 of 69878\n",
      "Evaluated user 40000 of 69878\n",
      "Evaluated user 50000 of 69878\n",
      "Evaluated user 60000 of 69878\n",
      "Recommender performance is: Precision = 0.3688, Recall = 0.1182, MAP = 0.3022\n",
      "Similarity column 7597 ( 100 % ), 8938.50 column/sec, elapsed time 0.01 min\n",
      "Similarity column 7597 ( 100 % ), 339.66 column/sec, elapsed time 0.37 min\n",
      "Evaluated user 0 of 69878\n",
      "Evaluated user 10000 of 69878\n",
      "Evaluated user 20000 of 69878\n",
      "Evaluated user 30000 of 69878\n",
      "Evaluated user 40000 of 69878\n",
      "Evaluated user 50000 of 69878\n",
      "Evaluated user 60000 of 69878\n",
      "Recommender performance is: Precision = 0.1472, Recall = 0.0311, MAP = 0.1082\n",
      "Evaluated user 0 of 69878\n",
      "Evaluated user 10000 of 69878\n",
      "Evaluated user 20000 of 69878\n",
      "Evaluated user 30000 of 69878\n",
      "Evaluated user 40000 of 69878\n",
      "Evaluated user 50000 of 69878\n",
      "Evaluated user 60000 of 69878\n",
      "Recommender performance is: Precision = 0.3688, Recall = 0.1182, MAP = 0.3022\n",
      "Similarity column 7597 ( 100 % ), 8182.82 column/sec, elapsed time 0.02 min\n",
      "Similarity column 7597 ( 100 % ), 337.89 column/sec, elapsed time 0.37 min\n",
      "Evaluated user 0 of 69878\n",
      "Evaluated user 10000 of 69878\n",
      "Evaluated user 20000 of 69878\n",
      "Evaluated user 30000 of 69878\n",
      "Evaluated user 40000 of 69878\n",
      "Evaluated user 50000 of 69878\n",
      "Evaluated user 60000 of 69878\n",
      "Recommender performance is: Precision = 0.1249, Recall = 0.0267, MAP = 0.0889\n",
      "Evaluated user 0 of 69878\n",
      "Evaluated user 10000 of 69878\n",
      "Evaluated user 20000 of 69878\n",
      "Evaluated user 30000 of 69878\n",
      "Evaluated user 40000 of 69878\n",
      "Evaluated user 50000 of 69878\n",
      "Evaluated user 60000 of 69878\n",
      "Recommender performance is: Precision = 0.3712, Recall = 0.1190, MAP = 0.3059\n",
      "Similarity column 7597 ( 100 % ), 8219.14 column/sec, elapsed time 0.02 min\n",
      "Similarity column 7597 ( 100 % ), 324.46 column/sec, elapsed time 0.39 min\n",
      "Evaluated user 0 of 69878\n",
      "Evaluated user 10000 of 69878\n",
      "Evaluated user 20000 of 69878\n",
      "Evaluated user 30000 of 69878\n",
      "Evaluated user 40000 of 69878\n",
      "Evaluated user 50000 of 69878\n",
      "Evaluated user 60000 of 69878\n",
      "Recommender performance is: Precision = 0.1411, Recall = 0.0301, MAP = 0.1019\n",
      "Evaluated user 0 of 69878\n",
      "Evaluated user 10000 of 69878\n",
      "Evaluated user 20000 of 69878\n",
      "Evaluated user 30000 of 69878\n",
      "Evaluated user 40000 of 69878\n",
      "Evaluated user 50000 of 69878\n",
      "Evaluated user 60000 of 69878\n",
      "Recommender performance is: Precision = 0.3712, Recall = 0.1190, MAP = 0.3058\n",
      "Similarity column 7597 ( 100 % ), 8196.32 column/sec, elapsed time 0.02 min\n",
      "Similarity column 7597 ( 100 % ), 335.63 column/sec, elapsed time 0.38 min\n",
      "Evaluated user 0 of 69878\n",
      "Evaluated user 10000 of 69878\n",
      "Evaluated user 20000 of 69878\n",
      "Evaluated user 30000 of 69878\n",
      "Evaluated user 40000 of 69878\n",
      "Evaluated user 50000 of 69878\n",
      "Evaluated user 60000 of 69878\n",
      "Recommender performance is: Precision = 0.1501, Recall = 0.0318, MAP = 0.1096\n",
      "Evaluated user 0 of 69878\n",
      "Evaluated user 10000 of 69878\n",
      "Evaluated user 20000 of 69878\n",
      "Evaluated user 30000 of 69878\n",
      "Evaluated user 40000 of 69878\n",
      "Evaluated user 50000 of 69878\n",
      "Evaluated user 60000 of 69878\n",
      "Recommender performance is: Precision = 0.3711, Recall = 0.1190, MAP = 0.3058\n"
     ]
    }
   ],
   "source": [
    "content_recommender = ItemCBFKNNRecommender(URM_train, ICM_all)\n",
    "collaborative_recommender = ItemCFKNNRecommender(URM_train)\n",
    "\n",
    "for topK in [50, 100, 200]:\n",
    "    for shrink in [10, 50, 100]:\n",
    "        content_recommender.fit(shrink=shrink, topK=topK)\n",
    "        collaborative_recommender.fit(shrink=shrink, topK=topK)\n",
    "        \n",
    "        result_dict = evaluate_algorithm(URM_test, content_recommender)\n",
    "        MAP_per_k.append(result_dict[\"MAP\"])\n",
    "        \n",
    "        result_dict = evaluate_algorithm(URM_test, collaborative_recommender)\n",
    "        MAP_per_k.append(result_dict[\"MAP\"])"
   ]
  },
  {
   "cell_type": "markdown",
   "metadata": {},
   "source": [
    "## Collaborative is outperforming content-based by a large margin, as we could expect"
   ]
  },
  {
   "cell_type": "markdown",
   "metadata": {},
   "source": [
    "### Let's try to see how the recommendations are distributed"
   ]
  },
  {
   "cell_type": "code",
   "execution_count": 30,
   "metadata": {},
   "outputs": [
    {
     "name": "stdout",
     "output_type": "stream",
     "text": [
      "Recommended to user 0/69878\n",
      "Recommended to user 10000/69878\n",
      "Recommended to user 20000/69878\n",
      "Recommended to user 30000/69878\n",
      "Recommended to user 40000/69878\n",
      "Recommended to user 50000/69878\n",
      "Recommended to user 60000/69878\n"
     ]
    },
    {
     "data": {
      "image/png": "[encoded data removed]",
      "text/plain": [
       "<Figure size 432x288 with 1 Axes>"
      ]
     },
     "metadata": {
      "needs_background": "light"
     },
     "output_type": "display_data"
    }
   ],
   "source": [
    "x_tick = np.arange(URM_all.shape[1])\n",
    "counter = np.zeros(URM_all.shape[1])\n",
    "for user_id in range(URM_all.shape[0]):\n",
    "    recs = collaborative_recommender.recommend(user_id, at=5)\n",
    "    counter[recs] += 1\n",
    "    if user_id % 10000 == 0:\n",
    "        print(\"Recommended to user {}/{}\".format(user_id, URM_all.shape[0]))\n",
    "\n",
    "pyplot.plot(x_tick, np.sort(counter)[::-1])\n",
    "pyplot.ylabel('Number of recommendations')\n",
    "pyplot.xlabel('Items')\n",
    "pyplot.show()"
   ]
  },
  {
   "cell_type": "code",
   "execution_count": 31,
   "metadata": {},
   "outputs": [
    {
     "name": "stdout",
     "output_type": "stream",
     "text": [
      "Recommended to user 0/69878\n",
      "Recommended to user 10000/69878\n",
      "Recommended to user 20000/69878\n",
      "Recommended to user 30000/69878\n",
      "Recommended to user 40000/69878\n",
      "Recommended to user 50000/69878\n",
      "Recommended to user 60000/69878\n"
     ]
    },
    {
     "data": {
      "image/png": "[encoded data removed]",
      "text/plain": [
       "<Figure size 432x288 with 1 Axes>"
      ]
     },
     "metadata": {
      "needs_background": "light"
     },
     "output_type": "display_data"
    }
   ],
   "source": [
    "x_tick = np.arange(URM_all.shape[1])\n",
    "counter = np.zeros(URM_all.shape[1])\n",
    "for user_id in range(URM_all.shape[0]):\n",
    "    recs = content_recommender.recommend(user_id, at=5)\n",
    "    counter[recs] += 1\n",
    "    if user_id % 10000 == 0:\n",
    "        print(\"Recommended to user {}/{}\".format(user_id, URM_all.shape[0]))\n",
    "\n",
    "pyplot.plot(x_tick, np.sort(counter)[::-1])\n",
    "pyplot.ylabel('Number of recommendations')\n",
    "pyplot.xlabel('Items')\n",
    "pyplot.show()"
   ]
  },
  {
   "cell_type": "markdown",
   "metadata": {},
   "source": [
    "## Really unexpected!\n",
    "* Configuration\n",
    "* User tags"
   ]
  },
  {
   "cell_type": "code",
   "execution_count": null,
   "metadata": {},
   "outputs": [],
   "source": []
  }
 ],
 "metadata": {
  "anaconda-cloud": {},
  "kernelspec": {
   "display_name": "Python 3",
   "language": "python",
   "name": "python3"
  },
  "language_info": {
   "codemirror_mode": {
    "name": "ipython",
    "version": 3
   },
   "file_extension": ".py",
   "mimetype": "text/x-python",
   "name": "python",
   "nbconvert_exporter": "python",
   "pygments_lexer": "ipython3",
   "version": "3.6.9"
  }
 },
 "nbformat": 4,
 "nbformat_minor": 1
}
