{
 "cells": [
  {
   "cell_type": "markdown",
   "metadata": {},
   "source": [
    "# Recommender Systems 2019/20\n",
    "\n",
    "### Practice 3 - Content Based recommenders\n",
    "\n",
    "\n",
    "### Load the data you saw last time:"
   ]
  },
  {
   "cell_type": "code",
   "execution_count": 1,
   "metadata": {},
   "outputs": [],
   "source": [
    "from urllib.request import urlretrieve\n",
    "import zipfile, os\n",
    "\n",
    "# If file exists, skip the download\n",
    "data_file_path = \"data/Movielens_10M\"\n",
    "data_file_name = data_file_path + \"/movielens_10m.zip\"\n",
    "\n",
    "os.makedirs(data_file_path, exist_ok=True)   \n",
    "if not os.path.exists(data_file_name):\n",
    "    urlretrieve (\"http://files.grouplens.org/datasets/movielens/ml-10m.zip\", data_file_name)\n",
    "    \n",
    "dataFile = zipfile.ZipFile(data_file_name)\n",
    "URM_path = dataFile.extract(\"ml-10M100K/ratings.dat\", path=\"data/Movielens_10M\")\n",
    "URM_file = open(URM_path, 'r')\n",
    "\n",
    "\n",
    "def rowSplit (rowString):\n",
    "    \n",
    "    split = rowString.split(\"::\")\n",
    "    split[3] = split[3].replace(\"\\n\",\"\")\n",
    "    \n",
    "    split[0] = int(split[0])\n",
    "    split[1] = int(split[1])\n",
    "    split[2] = float(split[2])\n",
    "    split[3] = int(split[3])\n",
    "    \n",
    "    result = tuple(split)\n",
    "    \n",
    "    return result\n",
    "\n",
    "\n",
    "URM_file.seek(0)\n",
    "URM_tuples = []\n",
    "\n",
    "for line in URM_file:\n",
    "   URM_tuples.append(rowSplit (line))\n",
    "\n",
    "userList, itemList, ratingList, timestampList = zip(*URM_tuples)\n",
    "\n",
    "userList = list(userList)\n",
    "itemList = list(itemList)\n",
    "ratingList = list(ratingList)\n",
    "timestampList = list(timestampList)\n"
   ]
  },
  {
   "cell_type": "code",
   "execution_count": 2,
   "metadata": {},
   "outputs": [
    {
     "name": "stdout",
     "output_type": "stream",
     "text": [
      "User data, ID: min 1, max 71567, unique 69878, missig 2.36 %\n",
      "Item data, ID: min 1, max 65133, unique 10677, missig 83.61 %\n"
     ]
    }
   ],
   "source": [
    "def list_ID_stats(ID_list, label):\n",
    "    \n",
    "    min_val = min(ID_list)\n",
    "    max_val = max(ID_list)\n",
    "    unique_val = len(set(ID_list))\n",
    "    missing_val = 1 - unique_val/(max_val - min_val)\n",
    "\n",
    "    print(\"{} data, ID: min {}, max {}, unique {}, missig {:.2f} %\".format(label, min_val, max_val, unique_val, missing_val*100))\n",
    "\n",
    "    \n",
    "    \n",
    "list_ID_stats(userList, \"User\")\n",
    "list_ID_stats(itemList, \"Item\")"
   ]
  },
  {
   "cell_type": "code",
   "execution_count": 3,
   "metadata": {},
   "outputs": [],
   "source": [
    "import scipy.sparse as sps\n",
    "\n",
    "URM_all = sps.coo_matrix((ratingList, (userList, itemList)))\n",
    "URM_all = URM_all.tocsr()"
   ]
  },
  {
   "cell_type": "markdown",
   "metadata": {},
   "source": [
    "### For items in particular most have no interactions. Sometimes it may be better to remove them to avoid creating big data structures with no need. In this case empty columns will nave no impact and we leave them as is. "
   ]
  },
  {
   "cell_type": "markdown",
   "metadata": {},
   "source": [
    "## And now load the content informations in the same way:\n",
    "## In this case we are using tags"
   ]
  },
  {
   "cell_type": "code",
   "execution_count": 4,
   "metadata": {},
   "outputs": [],
   "source": [
    "ICM_path = dataFile.extract(\"ml-10M100K/tags.dat\", path = \"data/Movielens_10M\")\n",
    "ICM_file = open(ICM_path, 'r')\n",
    "\n",
    "def rowSplit (rowString):\n",
    "    split = rowString.split(\"::\")\n",
    "    split[3] = split[3].replace(\"\\n\",\"\")\n",
    "    \n",
    "    split[0] = int(split[0])\n",
    "    split[1] = int(split[1])\n",
    "    split[2] = str(split[2]) # tag is a string, not a float like the rating\n",
    "    split[3] = int(split[3])\n",
    "    \n",
    "    result = tuple(split)\n",
    "    \n",
    "    return result\n",
    "\n",
    "ICM_file.seek(0)\n",
    "ICM_tuples = []\n",
    "\n",
    "for line in ICM_file:\n",
    "    ICM_tuples.append(rowSplit(line))\n",
    "    \n",
    "userList_icm, itemList_icm, tagList_icm, timestampList_icm = zip(*ICM_tuples)\n",
    "\n",
    "userList_icm = list(userList_icm)\n",
    "itemList_icm = list(itemList_icm)\n",
    "tagList_icm = list(tagList_icm)\n",
    "timestampList_icm = list(timestampList_icm)\n"
   ]
  },
  {
   "cell_type": "code",
   "execution_count": 5,
   "metadata": {},
   "outputs": [
    {
     "name": "stdout",
     "output_type": "stream",
     "text": [
      "Users ICM data, ID: min 15, max 71556, unique 4009, missig 94.40 %\n",
      "Items ICM data, ID: min 1, max 65130, unique 7601, missig 88.33 %\n"
     ]
    }
   ],
   "source": [
    "list_ID_stats(userList_icm, \"Users ICM\")\n",
    "list_ID_stats(itemList_icm, \"Items ICM\")"
   ]
  },
  {
   "cell_type": "markdown",
   "metadata": {},
   "source": [
    "### We can see that most users and items have no data associated to them"
   ]
  },
  {
   "cell_type": "code",
   "execution_count": 6,
   "metadata": {},
   "outputs": [
    {
     "name": "stdout",
     "output_type": "stream",
     "text": [
      "Number of tags\t 16529, Number of item-tag tuples 95580\n",
      "\n",
      "Data example:\n",
      "[15, 20, 20, 20, 20, 20, 20, 20, 20, 20]\n",
      "[4973, 1747, 1747, 2424, 2424, 2424, 2947, 2947, 3033, 3033]\n",
      "['excellent!', 'politics', 'satire', 'chick flick 212', 'hanks', 'ryan', 'action', 'bond', 'spoof', 'star wars']\n"
     ]
    }
   ],
   "source": [
    "numTags = len(set(tagList_icm))\n",
    "\n",
    "print (\"Number of tags\\t {}, Number of item-tag tuples {}\".format(numTags, len(tagList_icm)))\n",
    "\n",
    "print(\"\\nData example:\")\n",
    "print(userList_icm[0:10])\n",
    "print(itemList_icm[0:10])\n",
    "print(tagList_icm[0:10])"
   ]
  },
  {
   "cell_type": "markdown",
   "metadata": {},
   "source": [
    "### The numbers of items and users in the ICM matrix is different from what we saw in the URM, why?\n",
    "\n",
    "### The tags are string, we should traslate them into numbers so we can use them as indices in the ICM"
   ]
  },
  {
   "cell_type": "code",
   "execution_count": 7,
   "metadata": {},
   "outputs": [
    {
     "name": "stdout",
     "output_type": "stream",
     "text": [
      "[ 9814 13375 14131  8515 10769 14070  7015  8071 14829 14900]\n"
     ]
    }
   ],
   "source": [
    "from sklearn import preprocessing\n",
    "le = preprocessing.LabelEncoder()\n",
    "le.fit(tagList_icm)\n",
    "\n",
    "tagList_icm = le.transform(tagList_icm)\n",
    "\n",
    "print(tagList_icm[0:10])"
   ]
  },
  {
   "cell_type": "markdown",
   "metadata": {},
   "source": [
    "# We can now build the ICM\n",
    "\n",
    "#### Be careful with the indices!"
   ]
  },
  {
   "cell_type": "code",
   "execution_count": 8,
   "metadata": {},
   "outputs": [
    {
     "data": {
      "text/plain": [
       "<65134x16529 sparse matrix of type '<class 'numpy.float64'>'\n",
       "\twith 71155 stored elements in Compressed Sparse Row format>"
      ]
     },
     "execution_count": 8,
     "metadata": {},
     "output_type": "execute_result"
    }
   ],
   "source": [
    "import numpy as np\n",
    "\n",
    "n_items = URM_all.shape[1]\n",
    "n_tags = max(tagList_icm) + 1\n",
    "\n",
    "ICM_shape = (n_items, n_tags)\n",
    "\n",
    "ones = np.ones(len(tagList_icm))\n",
    "ICM_all = sps.coo_matrix((ones, (itemList_icm, tagList_icm)), shape = ICM_shape)\n",
    "ICM_all = ICM_all.tocsr()\n",
    "\n",
    "ICM_all"
   ]
  },
  {
   "cell_type": "markdown",
   "metadata": {},
   "source": [
    "# Let's take a look at the ICM\n",
    "\n",
    "### We leverage CSR and CSC indptr data structure to compute the number of cells that have values for that row or column"
   ]
  },
  {
   "cell_type": "code",
   "execution_count": 9,
   "metadata": {},
   "outputs": [],
   "source": [
    "ICM_all = sps.csr_matrix(ICM_all)\n",
    "features_per_item = np.ediff1d(ICM_all.indptr)\n",
    "\n",
    "ICM_all = sps.csc_matrix(ICM_all)\n",
    "items_per_feature = np.ediff1d(ICM_all.indptr)\n",
    "\n",
    "ICM_all = sps.csr_matrix(ICM_all)"
   ]
  },
  {
   "cell_type": "code",
   "execution_count": 10,
   "metadata": {},
   "outputs": [
    {
     "name": "stdout",
     "output_type": "stream",
     "text": [
      "(65134,)\n",
      "(16529,)\n"
     ]
    }
   ],
   "source": [
    "print(features_per_item.shape)\n",
    "print(items_per_feature.shape)"
   ]
  },
  {
   "cell_type": "code",
   "execution_count": 11,
   "metadata": {},
   "outputs": [],
   "source": [
    "features_per_item = np.sort(features_per_item)\n",
    "items_per_feature = np.sort(items_per_feature)"
   ]
  },
  {
   "cell_type": "code",
   "execution_count": 12,
   "metadata": {},
   "outputs": [
    {
     "data": {
      "image/png": "[encoded data removed]",
      "text/plain": [
       "<Figure size 432x288 with 1 Axes>"
      ]
     },
     "metadata": {
      "needs_background": "light"
     },
     "output_type": "display_data"
    }
   ],
   "source": [
    "import matplotlib.pyplot as pyplot\n",
    "%matplotlib inline  \n",
    "\n",
    "pyplot.plot(features_per_item, 'ro')\n",
    "pyplot.ylabel('Num features ')\n",
    "pyplot.xlabel('Item Index')\n",
    "pyplot.show()"
   ]
  },
  {
   "cell_type": "code",
   "execution_count": 13,
   "metadata": {},
   "outputs": [
    {
     "data": {
      "image/png": "[encoded data removed]",
      "text/plain": [
       "<Figure size 432x288 with 1 Axes>"
      ]
     },
     "metadata": {
      "needs_background": "light"
     },
     "output_type": "display_data"
    }
   ],
   "source": [
    "pyplot.plot(items_per_feature, 'ro')\n",
    "pyplot.ylabel('Num items ')\n",
    "pyplot.xlabel('Feature Index')\n",
    "pyplot.show()"
   ]
  },
  {
   "cell_type": "markdown",
   "metadata": {},
   "source": [
    "# We can now build the recommender algorithm, but first we need the train/test split and the evaluation function:"
   ]
  },
  {
   "cell_type": "code",
   "execution_count": 14,
   "metadata": {},
   "outputs": [],
   "source": [
    "from Notebooks_utils.data_splitter import train_test_holdout\n",
    "\n",
    "\n",
    "URM_train, URM_test = train_test_holdout(URM_all, train_perc = 0.8)\n",
    "\n",
    "\n",
    "from Notebooks_utils.evaluation_function import evaluate_algorithm\n",
    "from Base.Similarity.Compute_Similarity_Python import Compute_Similarity_Python\n"
   ]
  },
  {
   "cell_type": "code",
   "execution_count": 15,
   "metadata": {},
   "outputs": [],
   "source": [
    "class ItemCBFKNNRecommender(object):\n",
    "    \n",
    "    def __init__(self, URM, ICM):\n",
    "        self.URM = URM\n",
    "        self.ICM = ICM\n",
    "        \n",
    "            \n",
    "    def fit(self, topK=50, shrink=100, normalize = True, similarity = \"cosine\"):\n",
    "        \n",
    "        similarity_object = Compute_Similarity_Python(self.ICM.T, shrink=shrink, \n",
    "                                                  topK=topK, normalize=normalize, \n",
    "                                                  similarity = similarity)\n",
    "        \n",
    "        self.W_sparse = similarity_object.compute_similarity()\n",
    "\n",
    "        \n",
    "    def recommend(self, user_id, at=None, exclude_seen=True):\n",
    "        # compute the scores using the dot product\n",
    "        user_profile = self.URM[user_id]\n",
    "        scores = user_profile.dot(self.W_sparse).toarray().ravel()\n",
    "\n",
    "        if exclude_seen:\n",
    "            scores = self.filter_seen(user_id, scores)\n",
    "\n",
    "        # rank items\n",
    "        ranking = scores.argsort()[::-1]\n",
    "            \n",
    "        return ranking[:at]\n",
    "    \n",
    "    \n",
    "    def filter_seen(self, user_id, scores):\n",
    "\n",
    "        start_pos = self.URM.indptr[user_id]\n",
    "        end_pos = self.URM.indptr[user_id+1]\n",
    "\n",
    "        user_profile = self.URM.indices[start_pos:end_pos]\n",
    "        \n",
    "        scores[user_profile] = -np.inf\n",
    "\n",
    "        return scores"
   ]
  },
  {
   "cell_type": "markdown",
   "metadata": {},
   "source": [
    "### We need to define Cosine similarity... Let's look at the attached source code"
   ]
  },
  {
   "cell_type": "markdown",
   "metadata": {},
   "source": [
    "### See also a [list of commonly used KNN similarity heuristics](https://github.com/MaurizioFD/RecSys_Course_2018/blob/master/slides/List_of_KNN_similarity_heuristics.pdf)"
   ]
  },
  {
   "cell_type": "markdown",
   "metadata": {},
   "source": [
    "## Test our CBF recommender:"
   ]
  },
  {
   "cell_type": "code",
   "execution_count": 16,
   "metadata": {},
   "outputs": [
    {
     "name": "stderr",
     "output_type": "stream",
     "text": [
      "/home/maurizio/PycharmProjects/RecSys_Course_2018/Base/Similarity/Compute_Similarity_Python.py:246: RuntimeWarning: invalid value encountered in sqrt\n",
      "  sumOfSquared = np.sqrt(sumOfSquared)\n"
     ]
    },
    {
     "name": "stdout",
     "output_type": "stream",
     "text": [
      "Similarity column 33400 ( 51 % ), 1110.15 column/sec, elapsed time 0.50 min\n",
      "Similarity column 65134 ( 100 % ), 1183.57 column/sec, elapsed time 0.92 min\n"
     ]
    }
   ],
   "source": [
    "recommender = ItemCBFKNNRecommender(URM_train, ICM_all)\n",
    "recommender.fit(shrink=0.0, topK=50)"
   ]
  },
  {
   "cell_type": "code",
   "execution_count": 17,
   "metadata": {},
   "outputs": [
    {
     "name": "stdout",
     "output_type": "stream",
     "text": [
      "[8636  153 6333  592 1591]\n",
      "[ 153 1377 1591  592 1918]\n",
      "[65133 21706 21719 21718 21717]\n",
      "[ 6350 62336  2810  5971  8253]\n",
      "[8525 2566 2043 1026 5651]\n",
      "[65133 21706 21719 21718 21717]\n",
      "[65133 21706 21719 21718 21717]\n",
      "[ 1196   316 33493  2461  5378]\n",
      "[1210 4901 2628  260 1619]\n",
      "[65133 21706 21719 21718 21717]\n"
     ]
    }
   ],
   "source": [
    "userList_unique = list(set(userList_icm))\n",
    "for user_id in userList_unique[0:10]:\n",
    "    print(recommender.recommend(user_id, at=5))"
   ]
  },
  {
   "cell_type": "markdown",
   "metadata": {},
   "source": [
    "#### Let's talk about speed\n",
    "\n",
    "#### Time to compute recommendations for a fixed group of users"
   ]
  },
  {
   "cell_type": "code",
   "execution_count": 18,
   "metadata": {},
   "outputs": [
    {
     "name": "stdout",
     "output_type": "stream",
     "text": [
      "Reasonable implementation speed is 656.58 usr/sec\n"
     ]
    }
   ],
   "source": [
    "import time\n",
    "\n",
    "n_users_to_test = 1000\n",
    "\n",
    "start_time = time.time()\n",
    "\n",
    "for user_id in range(n_users_to_test):\n",
    "    recommender.recommend(user_id, at=5)\n",
    "    \n",
    "end_time = time.time()\n",
    "\n",
    "print(\"Reasonable implementation speed is {:.2f} usr/sec\".format(n_users_to_test/(end_time-start_time)))\n"
   ]
  },
  {
   "cell_type": "markdown",
   "metadata": {},
   "source": [
    "### Let's add a common mistake.... a CSC URM"
   ]
  },
  {
   "cell_type": "code",
   "execution_count": 19,
   "metadata": {},
   "outputs": [
    {
     "name": "stdout",
     "output_type": "stream",
     "text": [
      "Similarity column 33700 ( 52 % ), 1121.31 column/sec, elapsed time 0.50 min\n",
      "Similarity column 65134 ( 100 % ), 1160.05 column/sec, elapsed time 0.94 min\n"
     ]
    }
   ],
   "source": [
    "URM_train_csc = URM_train.tocsc()\n",
    "\n",
    "recommender = ItemCBFKNNRecommender(URM_train_csc, ICM_all)\n",
    "recommender.fit(shrink=0.0, topK=50)"
   ]
  },
  {
   "cell_type": "code",
   "execution_count": 20,
   "metadata": {},
   "outputs": [
    {
     "name": "stdout",
     "output_type": "stream",
     "text": [
      "Exception index 65135 is out of bounds for axis 0 with size 65134\n"
     ]
    },
    {
     "name": "stderr",
     "output_type": "stream",
     "text": [
      "Traceback (most recent call last):\n",
      "  File \"<ipython-input-20-cd8883de5544>\", line 10, in <module>\n",
      "    recommender.recommend(user_id, at=5)\n",
      "  File \"<ipython-input-15-d625b194ca44>\", line 23, in recommend\n",
      "    scores = self.filter_seen(user_id, scores)\n",
      "  File \"<ipython-input-15-d625b194ca44>\", line 38, in filter_seen\n",
      "    scores[user_profile] = -np.inf\n",
      "IndexError: index 65135 is out of bounds for axis 0 with size 65134\n"
     ]
    }
   ],
   "source": [
    "import time, traceback\n",
    "\n",
    "try:\n",
    "\n",
    "    n_users_to_test = 1000\n",
    "\n",
    "    start_time = time.time()\n",
    "\n",
    "    for user_id in range(n_users_to_test):\n",
    "        recommender.recommend(user_id, at=5)\n",
    "\n",
    "    end_time = time.time()\n",
    "\n",
    "    print(\"Wrong implementation speed is {:.2f} usr/sec\".format(n_users_to_test/(end_time-start_time)))\n",
    "\n",
    "    \n",
    "except Exception as e:\n",
    "        \n",
    "    print(\"Exception {}\".format(str(e)))\n",
    "    traceback.print_exc()\n"
   ]
  },
  {
   "cell_type": "markdown",
   "metadata": {},
   "source": [
    "## Parameter tuning\n",
    "\n",
    "#### Once we have built our model we can play with its parameters\n",
    "* Number of neighbors\n",
    "* Shrinkage\n",
    "* Similarity type"
   ]
  },
  {
   "cell_type": "markdown",
   "metadata": {},
   "source": [
    "#### Number of neighbors"
   ]
  },
  {
   "cell_type": "code",
   "execution_count": 21,
   "metadata": {},
   "outputs": [
    {
     "name": "stdout",
     "output_type": "stream",
     "text": [
      "Similarity column 37900 ( 58 % ), 1260.58 column/sec, elapsed time 0.50 min\n",
      "Similarity column 65134 ( 100 % ), 1203.11 column/sec, elapsed time 0.90 min\n",
      "Evaluated user 0 of 71568\n",
      "Evaluated user 10000 of 71568\n",
      "Evaluated user 20000 of 71568\n",
      "Evaluated user 30000 of 71568\n",
      "Evaluated user 40000 of 71568\n",
      "Evaluated user 50000 of 71568\n",
      "Evaluated user 60000 of 71568\n",
      "Evaluated user 70000 of 71568\n",
      "Recommender performance is: Precision = 0.0926, Recall = 0.0206, MAP = 0.0614\n",
      "Similarity column 34100 ( 52 % ), 1136.51 column/sec, elapsed time 0.50 min\n",
      "Similarity column 65134 ( 100 % ), 1157.29 column/sec, elapsed time 0.94 min\n",
      "Evaluated user 0 of 71568\n",
      "Evaluated user 10000 of 71568\n",
      "Evaluated user 20000 of 71568\n",
      "Evaluated user 30000 of 71568\n",
      "Evaluated user 40000 of 71568\n",
      "Evaluated user 50000 of 71568\n",
      "Evaluated user 60000 of 71568\n",
      "Evaluated user 70000 of 71568\n",
      "Recommender performance is: Precision = 0.0771, Recall = 0.0171, MAP = 0.0543\n",
      "Similarity column 34400 ( 53 % ), 1145.29 column/sec, elapsed time 0.50 min\n",
      "Similarity column 65134 ( 100 % ), 1191.24 column/sec, elapsed time 0.91 min\n",
      "Evaluated user 0 of 71568\n",
      "Evaluated user 10000 of 71568\n",
      "Evaluated user 20000 of 71568\n",
      "Evaluated user 30000 of 71568\n",
      "Evaluated user 40000 of 71568\n",
      "Evaluated user 50000 of 71568\n",
      "Evaluated user 60000 of 71568\n",
      "Evaluated user 70000 of 71568\n",
      "Recommender performance is: Precision = 0.0811, Recall = 0.0179, MAP = 0.0571\n",
      "Similarity column 36200 ( 56 % ), 1206.44 column/sec, elapsed time 0.50 min\n",
      "Similarity column 65134 ( 100 % ), 1169.21 column/sec, elapsed time 0.93 min\n",
      "Evaluated user 0 of 71568\n",
      "Evaluated user 10000 of 71568\n",
      "Evaluated user 20000 of 71568\n",
      "Evaluated user 30000 of 71568\n",
      "Evaluated user 40000 of 71568\n",
      "Evaluated user 50000 of 71568\n",
      "Evaluated user 60000 of 71568\n",
      "Evaluated user 70000 of 71568\n",
      "Recommender performance is: Precision = 0.0878, Recall = 0.0195, MAP = 0.0603\n",
      "Similarity column 37900 ( 58 % ), 1262.90 column/sec, elapsed time 0.50 min\n",
      "Similarity column 65134 ( 100 % ), 1236.03 column/sec, elapsed time 0.88 min\n",
      "Evaluated user 0 of 71568\n",
      "Evaluated user 10000 of 71568\n",
      "Evaluated user 20000 of 71568\n",
      "Evaluated user 30000 of 71568\n",
      "Evaluated user 40000 of 71568\n",
      "Evaluated user 50000 of 71568\n",
      "Evaluated user 60000 of 71568\n",
      "Evaluated user 70000 of 71568\n",
      "Recommender performance is: Precision = 0.0885, Recall = 0.0203, MAP = 0.0602\n"
     ]
    }
   ],
   "source": [
    "x_tick = [10, 50, 100, 200, 500]\n",
    "MAP_per_k = []\n",
    "\n",
    "for topK in x_tick:\n",
    "    \n",
    "    recommender = ItemCBFKNNRecommender(URM_train, ICM_all)\n",
    "    recommender.fit(shrink=0.0, topK=topK)\n",
    "    \n",
    "    result_dict = evaluate_algorithm(URM_test, recommender)\n",
    "    MAP_per_k.append(result_dict[\"MAP\"])"
   ]
  },
  {
   "cell_type": "code",
   "execution_count": 22,
   "metadata": {},
   "outputs": [
    {
     "data": {
      "image/png": "[encoded data removed]",
      "text/plain": [
       "<Figure size 432x288 with 1 Axes>"
      ]
     },
     "metadata": {
      "needs_background": "light"
     },
     "output_type": "display_data"
    }
   ],
   "source": [
    "pyplot.plot(x_tick, MAP_per_k)\n",
    "pyplot.ylabel('MAP')\n",
    "pyplot.xlabel('TopK')\n",
    "pyplot.show()"
   ]
  },
  {
   "cell_type": "markdown",
   "metadata": {},
   "source": [
    "#### On this dataset the number of neighbors does not have a great impact on MAP. Higher values of TopK might work even better\n",
    "\n",
    "#### Different datasets will behave in different ways."
   ]
  },
  {
   "cell_type": "markdown",
   "metadata": {},
   "source": [
    "### Shrinkage"
   ]
  },
  {
   "cell_type": "code",
   "execution_count": 23,
   "metadata": {},
   "outputs": [
    {
     "name": "stdout",
     "output_type": "stream",
     "text": [
      "Similarity column 37900 ( 58 % ), 1259.64 column/sec, elapsed time 0.50 min\n",
      "Similarity column 65134 ( 100 % ), 1242.41 column/sec, elapsed time 0.87 min\n",
      "Evaluated user 0 of 71568\n",
      "Evaluated user 10000 of 71568\n",
      "Evaluated user 20000 of 71568\n",
      "Evaluated user 30000 of 71568\n",
      "Evaluated user 40000 of 71568\n",
      "Evaluated user 50000 of 71568\n",
      "Evaluated user 60000 of 71568\n",
      "Evaluated user 70000 of 71568\n",
      "Recommender performance is: Precision = 0.0811, Recall = 0.0179, MAP = 0.0571\n",
      "Similarity column 39900 ( 61 % ), 1327.38 column/sec, elapsed time 0.50 min\n",
      "Similarity column 65134 ( 100 % ), 1300.35 column/sec, elapsed time 0.83 min\n",
      "Evaluated user 0 of 71568\n",
      "Evaluated user 10000 of 71568\n",
      "Evaluated user 20000 of 71568\n",
      "Evaluated user 30000 of 71568\n",
      "Evaluated user 40000 of 71568\n",
      "Evaluated user 50000 of 71568\n",
      "Evaluated user 60000 of 71568\n",
      "Evaluated user 70000 of 71568\n",
      "Recommender performance is: Precision = 0.1195, Recall = 0.0254, MAP = 0.0865\n",
      "Similarity column 36200 ( 56 % ), 1206.34 column/sec, elapsed time 0.50 min\n",
      "Similarity column 65134 ( 100 % ), 1179.14 column/sec, elapsed time 0.92 min\n",
      "Evaluated user 0 of 71568\n",
      "Evaluated user 10000 of 71568\n",
      "Evaluated user 20000 of 71568\n",
      "Evaluated user 30000 of 71568\n",
      "Evaluated user 40000 of 71568\n",
      "Evaluated user 50000 of 71568\n",
      "Evaluated user 60000 of 71568\n",
      "Evaluated user 70000 of 71568\n",
      "Recommender performance is: Precision = 0.1375, Recall = 0.0291, MAP = 0.1004\n",
      "Similarity column 34500 ( 53 % ), 1148.68 column/sec, elapsed time 0.50 min\n",
      "Similarity column 65134 ( 100 % ), 1137.48 column/sec, elapsed time 0.95 min\n",
      "Evaluated user 0 of 71568\n",
      "Evaluated user 10000 of 71568\n",
      "Evaluated user 20000 of 71568\n",
      "Evaluated user 30000 of 71568\n",
      "Evaluated user 40000 of 71568\n",
      "Evaluated user 50000 of 71568\n",
      "Evaluated user 60000 of 71568\n",
      "Evaluated user 70000 of 71568\n",
      "Recommender performance is: Precision = 0.1469, Recall = 0.0309, MAP = 0.1081\n",
      "Similarity column 36300 ( 56 % ), 1209.40 column/sec, elapsed time 0.50 min\n",
      "Similarity column 65134 ( 100 % ), 1173.73 column/sec, elapsed time 0.92 min\n",
      "Evaluated user 0 of 71568\n",
      "Evaluated user 10000 of 71568\n",
      "Evaluated user 20000 of 71568\n",
      "Evaluated user 30000 of 71568\n",
      "Evaluated user 40000 of 71568\n",
      "Evaluated user 50000 of 71568\n",
      "Evaluated user 60000 of 71568\n",
      "Evaluated user 70000 of 71568\n",
      "Recommender performance is: Precision = 0.1554, Recall = 0.0325, MAP = 0.1152\n",
      "Similarity column 34100 ( 52 % ), 1136.61 column/sec, elapsed time 0.50 min\n",
      "Similarity column 65134 ( 100 % ), 1212.47 column/sec, elapsed time 0.90 min\n",
      "Evaluated user 0 of 71568\n",
      "Evaluated user 10000 of 71568\n",
      "Evaluated user 20000 of 71568\n",
      "Evaluated user 30000 of 71568\n",
      "Evaluated user 40000 of 71568\n",
      "Evaluated user 50000 of 71568\n",
      "Evaluated user 60000 of 71568\n",
      "Evaluated user 70000 of 71568\n",
      "Recommender performance is: Precision = 0.1637, Recall = 0.0343, MAP = 0.1226\n"
     ]
    }
   ],
   "source": [
    "x_tick = [0, 10, 50, 100, 200, 500]\n",
    "MAP_per_shrinkage = []\n",
    "\n",
    "for shrink in x_tick:\n",
    "    \n",
    "    recommender = ItemCBFKNNRecommender(URM_train, ICM_all)\n",
    "    recommender.fit(shrink=shrink, topK=100)\n",
    "    \n",
    "    result_dict = evaluate_algorithm(URM_test, recommender)\n",
    "    MAP_per_shrinkage.append(result_dict[\"MAP\"])"
   ]
  },
  {
   "cell_type": "code",
   "execution_count": 24,
   "metadata": {},
   "outputs": [
    {
     "data": {
      "image/png": "[encoded data removed]",
      "text/plain": [
       "<Figure size 432x288 with 1 Axes>"
      ]
     },
     "metadata": {
      "needs_background": "light"
     },
     "output_type": "display_data"
    }
   ],
   "source": [
    "pyplot.plot(x_tick, MAP_per_shrinkage)\n",
    "pyplot.ylabel('MAP')\n",
    "pyplot.xlabel('Shrinkage')\n",
    "pyplot.show()"
   ]
  },
  {
   "cell_type": "markdown",
   "metadata": {},
   "source": [
    "#### The shrinkage value (i.e. support) have a much stronger impact. Combine a parameter search with the two to ensure maximum recommendation quality\n",
    "\n",
    "## Be careful, overfitting!\n",
    "\n",
    "#### While a thorough parameter tuning might result in significantly higher MAP on your validation split, it could have only marginally better or even worse MAP on the test set"
   ]
  },
  {
   "cell_type": "markdown",
   "metadata": {},
   "source": [
    "# Feature weighting"
   ]
  },
  {
   "cell_type": "markdown",
   "metadata": {
    "collapsed": true
   },
   "source": [
    "# IDF"
   ]
  },
  {
   "cell_type": "markdown",
   "metadata": {},
   "source": [
    "![title](https://www.link-assistant.com/images/news/tf-idf-tool-for-seo/screen-03.png)"
   ]
  },
  {
   "cell_type": "code",
   "execution_count": 25,
   "metadata": {},
   "outputs": [
    {
     "name": "stdout",
     "output_type": "stream",
     "text": [
      "(65134, 16529)\n",
      "(16529,)\n"
     ]
    }
   ],
   "source": [
    "num_tot_items = ICM_all.shape[0]\n",
    "\n",
    "# let's count how many items have a certain feature\n",
    "items_per_feature = (ICM_all > 0).sum(axis=0)\n",
    "\n",
    "IDF = np.array(np.log(num_tot_items / items_per_feature))[0]\n",
    "\n",
    "print(ICM_all.shape)\n",
    "print(IDF.shape)"
   ]
  },
  {
   "cell_type": "code",
   "execution_count": 26,
   "metadata": {},
   "outputs": [
    {
     "name": "stdout",
     "output_type": "stream",
     "text": [
      "(16529,)\n",
      "(65134, 16529)\n",
      "(16529,)\n"
     ]
    }
   ],
   "source": [
    "ICM_idf = ICM_all.copy()\n",
    "# compute the number of non-zeros in each col\n",
    "# NOTE: this works only if X is instance of sparse.csc_matrix\n",
    "col_nnz = np.diff(sps.csc_matrix(ICM_idf).indptr)\n",
    "print(col_nnz.shape)\n",
    "print(ICM_idf.shape)\n",
    "print(IDF.shape)\n",
    "# then normalize the values in each col\n",
    "ICM_idf.data *= np.repeat(IDF, col_nnz)"
   ]
  },
  {
   "cell_type": "code",
   "execution_count": 27,
   "metadata": {
    "scrolled": true
   },
   "outputs": [
    {
     "name": "stdout",
     "output_type": "stream",
     "text": [
      "Similarity column 36200 ( 56 % ), 1206.27 column/sec, elapsed time 0.50 min\n",
      "Similarity column 65134 ( 100 % ), 1208.52 column/sec, elapsed time 0.90 min\n",
      "Evaluated user 0 of 71568\n",
      "Evaluated user 10000 of 71568\n",
      "Evaluated user 20000 of 71568\n",
      "Evaluated user 30000 of 71568\n",
      "Evaluated user 40000 of 71568\n",
      "Evaluated user 50000 of 71568\n",
      "Evaluated user 60000 of 71568\n",
      "Evaluated user 70000 of 71568\n",
      "Recommender performance is: Precision = 0.0789, Recall = 0.0174, MAP = 0.0555\n"
     ]
    },
    {
     "data": {
      "text/plain": [
       "{'precision': 0.07894239307912927,\n",
       " 'recall': 0.01740314955412555,\n",
       " 'MAP': 0.05552435936609282}"
      ]
     },
     "execution_count": 27,
     "metadata": {},
     "output_type": "execute_result"
    }
   ],
   "source": [
    "recommender_idf = ItemCBFKNNRecommender(URM_train, ICM_idf)\n",
    "recommender_idf.fit(shrink=0.0, topK=50)\n",
    "\n",
    "evaluate_algorithm(URM_test, recommender_idf)"
   ]
  },
  {
   "cell_type": "markdown",
   "metadata": {},
   "source": [
    "#### There is  a small gain over the non-weighted ICM. Try other feature weighting methods like BM25..."
   ]
  },
  {
   "cell_type": "markdown",
   "metadata": {},
   "source": [
    "# BM25"
   ]
  },
  {
   "cell_type": "code",
   "execution_count": 19,
   "metadata": {},
   "outputs": [],
   "source": [
    "from Base.IR_feature_weighting import okapi_BM_25\n",
    "\n",
    "ICM_BM25 = ICM_all.copy().astype(np.float32)\n",
    "ICM_BM25 = okapi_BM_25(ICM_BM25)\n",
    "ICM_BM25 = ICM_BM25.tocsr()"
   ]
  },
  {
   "cell_type": "code",
   "execution_count": 20,
   "metadata": {
    "scrolled": true
   },
   "outputs": [
    {
     "name": "stdout",
     "output_type": "stream",
     "text": [
      "Similarity column 30400 ( 47 % ), 1011.07 column/sec, elapsed time 0.50 min\n",
      "Similarity column 61200 ( 94 % ), 1018.18 column/sec, elapsed time 1.00 min\n",
      "Similarity column 65134 ( 100 % ), 1029.50 column/sec, elapsed time 1.05 min\n",
      "Evaluated user 0 of 71568\n",
      "Evaluated user 10000 of 71568\n",
      "Evaluated user 20000 of 71568\n",
      "Evaluated user 30000 of 71568\n",
      "Evaluated user 40000 of 71568\n",
      "Evaluated user 50000 of 71568\n",
      "Evaluated user 60000 of 71568\n",
      "Evaluated user 70000 of 71568\n",
      "Recommender performance is: Precision = 0.0807, Recall = 0.0182, MAP = 0.0562\n"
     ]
    },
    {
     "data": {
      "text/plain": [
       "{'precision': 0.0807270852133358,\n",
       " 'recall': 0.018198544811694282,\n",
       " 'MAP': 0.056242549541070774}"
      ]
     },
     "execution_count": 20,
     "metadata": {},
     "output_type": "execute_result"
    }
   ],
   "source": [
    "recommender_bm25 = ItemCBFKNNRecommender(URM_train, ICM_BM25)\n",
    "recommender_bm25.fit(shrink=0.0, topK=50)\n",
    "\n",
    "evaluate_algorithm(URM_test, recommender_bm25)"
   ]
  },
  {
   "cell_type": "markdown",
   "metadata": {},
   "source": [
    "#### Another small gain over TF-IDF"
   ]
  },
  {
   "cell_type": "markdown",
   "metadata": {},
   "source": [
    "# Unnormalized similarity matrix"
   ]
  },
  {
   "cell_type": "code",
   "execution_count": 28,
   "metadata": {},
   "outputs": [
    {
     "name": "stdout",
     "output_type": "stream",
     "text": [
      "Evaluated user 0 of 71568\n",
      "Evaluated user 10000 of 71568\n",
      "Evaluated user 20000 of 71568\n",
      "Evaluated user 30000 of 71568\n",
      "Evaluated user 40000 of 71568\n",
      "Evaluated user 50000 of 71568\n",
      "Evaluated user 60000 of 71568\n",
      "Evaluated user 70000 of 71568\n",
      "Recommender performance is: Precision = 0.1740, Recall = 0.0365, MAP = 0.1333\n"
     ]
    },
    {
     "data": {
      "text/plain": [
       "{'precision': 0.17396659887136964,\n",
       " 'recall': 0.0365334370402262,\n",
       " 'MAP': 0.13333012260449875}"
      ]
     },
     "execution_count": 28,
     "metadata": {},
     "output_type": "execute_result"
    }
   ],
   "source": [
    "recommender_dot = ItemCBFKNNRecommender(URM_train, ICM_all)\n",
    "recommender_dot.W_sparse = ICM_all * ICM_all.T\n",
    "\n",
    "evaluate_algorithm(URM_test, recommender_dot)"
   ]
  },
  {
   "cell_type": "markdown",
   "metadata": {},
   "source": [
    "## Be careful when you use user tags as content..."
   ]
  },
  {
   "cell_type": "code",
   "execution_count": null,
   "metadata": {},
   "outputs": [],
   "source": []
  }
 ],
 "metadata": {
  "anaconda-cloud": {},
  "kernelspec": {
   "display_name": "Python (RecSys_Course)",
   "language": "python",
   "name": "recsysframweork"
  },
  "language_info": {
   "codemirror_mode": {
    "name": "ipython",
    "version": 3
   },
   "file_extension": ".py",
   "mimetype": "text/x-python",
   "name": "python",
   "nbconvert_exporter": "python",
   "pygments_lexer": "ipython3",
   "version": "3.6.9"
  }
 },
 "nbformat": 4,
 "nbformat_minor": 1
}
